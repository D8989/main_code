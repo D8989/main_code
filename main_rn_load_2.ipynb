{
 "cells": [
  {
   "cell_type": "code",
   "execution_count": 1,
   "metadata": {},
   "outputs": [],
   "source": [
    "# Lê uma imagem multiband e normaliza com o StandardScaler"
   ]
  },
  {
   "cell_type": "code",
   "execution_count": 12,
   "metadata": {},
   "outputs": [],
   "source": [
    "import os\n",
    "os.chdir('/mnt/mint_files/TCC/main_code/')"
   ]
  },
  {
   "cell_type": "code",
   "execution_count": 13,
   "metadata": {},
   "outputs": [],
   "source": [
    "import numpy as np\n",
    "from tensorflow import keras\n",
    "from glob import glob\n",
    "import rasterio as rio\n",
    "from pyrsgis import raster\n",
    "import matplotlib.pyplot as plt\n",
    "from sklearn.preprocessing import StandardScaler, MinMaxScaler\n",
    "from PIL import Image as im"
   ]
  },
  {
   "cell_type": "code",
   "execution_count": 14,
   "metadata": {},
   "outputs": [
    {
     "name": "stdout",
     "output_type": "stream",
     "text": [
      "Recreio multispectral image shape:  (6, 360, 500)\n"
     ]
    }
   ],
   "source": [
    "recreioFile = 'images/lagoa_freitas/2015/lagoa_freitas_v1_multiband_6.TIF'\n",
    "# recreioFile = 'images/lagoa_freitas/land_5/2011/lagoa_freitas_v1_multiband_6.tif'\n",
    "recreioDs, recreioFeatures = raster.read(recreioFile, bands='all')\n",
    "print(\"Recreio multispectral image shape: \", recreioFeatures.shape)"
   ]
  },
  {
   "cell_type": "code",
   "execution_count": 15,
   "metadata": {},
   "outputs": [
    {
     "data": {
      "text/plain": [
       "(180000, 6)"
      ]
     },
     "execution_count": 15,
     "metadata": {},
     "output_type": "execute_result"
    }
   ],
   "source": [
    "x = np.moveaxis(recreioFeatures, 0, -1)\n",
    "x.reshape(-1, recreioFeatures.shape[0]).shape, recreioFeatures.shape[1] * recreioFeatures.shape[2]\n",
    "X_data = x.reshape(-1, recreioFeatures.shape[0])\n",
    "X_data.shape"
   ]
  },
  {
   "cell_type": "code",
   "execution_count": 16,
   "metadata": {},
   "outputs": [
    {
     "name": "stdout",
     "output_type": "stream",
     "text": [
      "5110\n",
      "23510\n"
     ]
    }
   ],
   "source": [
    "print(np.min(X_data))\n",
    "print(np.max(X_data))"
   ]
  },
  {
   "cell_type": "code",
   "execution_count": 17,
   "metadata": {},
   "outputs": [],
   "source": [
    "# Descomente abaixa qual a normalização que será utilizada\n",
    "\n",
    "# normalização fórmula\n",
    "#scaler = MinMaxScaler().fit(X_data)\n",
    "#X_scaled = scaler.fit_transform(X_data)\n",
    "#X_scaled.shape\n",
    "\n",
    "# normalização direta\n",
    "X_scaled = X_data / 65535.0"
   ]
  },
  {
   "cell_type": "code",
   "execution_count": 18,
   "metadata": {},
   "outputs": [
    {
     "name": "stdout",
     "output_type": "stream",
     "text": [
      "(180000, 1, 6)\n"
     ]
    }
   ],
   "source": [
    "X_scaled = X_scaled.reshape((X_scaled.shape[0], 1, X_scaled.shape[1]))\n",
    "print(X_scaled.shape)"
   ]
  },
  {
   "cell_type": "code",
   "execution_count": 19,
   "metadata": {},
   "outputs": [
    {
     "name": "stdout",
     "output_type": "stream",
     "text": [
      "modelos/my_model_234_2.h5\n",
      "modelos/my_model_345_2.h5\n",
      "modelos/my_model_256_2.h5\n",
      "modelos/my_model_allb_2.h5\n",
      "modelos/my_model_234_5.h5\n",
      "modelos/my_model_345_5.h5\n",
      "modelos/my_model_256_5.h5\n",
      "modelos/my_model_allb_5.h5\n",
      "modelos/my_model_234_10.h5\n",
      "modelos/my_model_345_10.h5\n",
      "modelos/my_model_256_10.h5\n",
      "modelos/my_model_allb_10.h5\n",
      "modelos/my_model_234_20.h5\n",
      "modelos/my_model_345_20.h5\n",
      "modelos/my_model_256_20.h5\n",
      "modelos/my_model_allb_20.h5\n",
      "modelos/my_model_234_25.h5\n",
      "modelos/my_model_345_25.h5\n",
      "modelos/my_model_256_25.h5\n",
      "modelos/my_model_allb_25.h5\n",
      "modelos/my_model_234_100.h5\n",
      "modelos/my_model_345_100.h5\n",
      "modelos/my_model_256_100.h5\n",
      "modelos/my_model_allb_100.h5\n"
     ]
    }
   ],
   "source": [
    "valor_cortes = [0.005,0.01, 0.05, 0.10, 0.20, 0.30, 0.40, 0.50, 0.60, 0.70, 0.80, 0.90, 0.95, 0.99, 0.999, 0.9995, 0.9999]\n",
    "# valor_cortes = [0.995, 0.999, 0.9995, 0.9999]\n",
    "# total_cortes = 5\n",
    "arr_ep = ['2', '5', '10', '20', '25', '100']\n",
    "# arr_ep = ['2']\n",
    "# arr_ep = ['100']\n",
    "\n",
    "# land8\n",
    "featuresRecreio_many = [\n",
    "    [\"234\", np.copy(X_scaled[:,:,[1,2,3]])],\n",
    "    [\"345\", np.copy(X_scaled[:,:,[2,3,4]])],\n",
    "    [\"256\", np.copy(X_scaled[:,:,[1,4,5]])],\n",
    "    #[\"134\", np.copy(featuresRecreio[:,:,[0,2,3]])],\n",
    "    [\"allb\", np.copy(X_scaled)],\n",
    "]\n",
    "\n",
    "# featuresRecreio_many = [[\"allb\", featuresRecreio]]\n",
    "total_features = 4\n",
    "# \n",
    "for ep in arr_ep:\n",
    "    for i in range(total_features):\n",
    "        print(f'modelos/my_model_{featuresRecreio_many[i][0]}_{ep}.h5')\n",
    "        modelo = keras.models.load_model(f'modelos/my_model_{featuresRecreio_many[i][0]}_{ep}.h5')\n",
    "        predicao = modelo.predict(featuresRecreio_many[i][1])\n",
    "        visualiza = predicao[:,1]\n",
    "        for valCorte in valor_cortes:\n",
    "            resultPredict = (visualiza>valCorte).astype(int)\n",
    "            arrayOfnumeros = np.array(resultPredict)\n",
    "            # (360, 500) - lagoa v1\n",
    "            # (200, 150) - lagoa v2\n",
    "            # (300, 650) - barra\n",
    "            arrayOfnumeros = np.reshape(arrayOfnumeros, (360, 500))\n",
    "            data = im.fromarray((arrayOfnumeros*255).astype(np.uint8))\n",
    "            data.save(f'images/output_4_land8/{ep}_epochs/b_{featuresRecreio_many[i][0]}_{str(valCorte).replace(\".\", \"_\")}.png')"
   ]
  },
  {
   "cell_type": "code",
   "execution_count": null,
   "metadata": {},
   "outputs": [],
   "source": []
  }
 ],
 "metadata": {
  "kernelspec": {
   "display_name": "venv",
   "language": "python",
   "name": "python3"
  },
  "language_info": {
   "codemirror_mode": {
    "name": "ipython",
    "version": 3
   },
   "file_extension": ".py",
   "mimetype": "text/x-python",
   "name": "python",
   "nbconvert_exporter": "python",
   "pygments_lexer": "ipython3",
   "version": "3.8.10"
  },
  "orig_nbformat": 4
 },
 "nbformat": 4,
 "nbformat_minor": 2
}
