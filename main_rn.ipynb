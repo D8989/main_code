{
 "cells": [
  {
   "cell_type": "code",
   "execution_count": 1,
   "metadata": {},
   "outputs": [],
   "source": [
    "import os\n",
    "os.chdir('/mnt/mint_files/TCC/main_code/')"
   ]
  },
  {
   "cell_type": "code",
   "execution_count": 2,
   "metadata": {},
   "outputs": [
    {
     "name": "stderr",
     "output_type": "stream",
     "text": [
      "2023-05-22 01:58:24.847120: W tensorflow/stream_executor/platform/default/dso_loader.cc:64] Could not load dynamic library 'libcudart.so.11.0'; dlerror: libcudart.so.11.0: cannot open shared object file: No such file or directory\n",
      "2023-05-22 01:58:24.847144: I tensorflow/stream_executor/cuda/cudart_stub.cc:29] Ignore above cudart dlerror if you do not have a GPU set up on your machine.\n"
     ]
    }
   ],
   "source": [
    "import numpy as np\n",
    "from tensorflow import keras\n",
    "from pyrsgis import raster\n",
    "from pyrsgis.convert import changeDimension\n",
    "from sklearn.model_selection import train_test_split\n",
    "from sklearn.metrics import confusion_matrix, precision_score, recall_score\n",
    "from glob import glob"
   ]
  },
  {
   "cell_type": "code",
   "execution_count": 3,
   "metadata": {},
   "outputs": [
    {
     "name": "stdout",
     "output_type": "stream",
     "text": [
      "Bangalore Multispectral image shape:  (6, 2054, 2044)\n",
      "Bangalore Binary built-up image shape:  (2054, 2044)\n",
      "Hyderabad Multispectral image shape:  (6, 1318, 1056)\n"
     ]
    }
   ],
   "source": [
    "# Assign file names\n",
    "mxBangalore = 'images/bangalore_data/l5_Bangalore2011_raw.tif'\n",
    "builtupBangalore = 'images/bangalore_data/l5_Bangalore2011_builtup.tif'\n",
    "mxHyderabad = 'images/bangalore_data/l5_Hyderabad2011_raw.tif'\n",
    "\n",
    "# Read the rasters as array\n",
    "ds1, featuresBangalore = raster.read(mxBangalore, bands='all')\n",
    "ds2, labelBangalore = raster.read(builtupBangalore, bands=1)\n",
    "ds3, featuresHyderabad = raster.read(mxHyderabad, bands='all')\n",
    "\n",
    "# Print the size of the arrays\n",
    "print(\"Bangalore Multispectral image shape: \", featuresBangalore.shape)\n",
    "print(\"Bangalore Binary built-up image shape: \", labelBangalore.shape)\n",
    "print(\"Hyderabad Multispectral image shape: \", featuresHyderabad.shape)\n"
   ]
  },
  {
   "cell_type": "code",
   "execution_count": 4,
   "metadata": {},
   "outputs": [
    {
     "name": "stdout",
     "output_type": "stream",
     "text": [
      "Recreio multispectral image shape:  (6, 360, 500)\n"
     ]
    }
   ],
   "source": [
    "# lê as imagens do Recreio\n",
    "# imagesPath = glob(\"images/lagoa_freitas/2015/lagoa_freitas_v1_B[1-6].TIF\")\n",
    "# imagesPath.sort()\n",
    "# recreioBands = []\n",
    "# for i in imagesPath:\n",
    "#   recreioBands.append(raster.read(i))\n",
    "\n",
    "# bandsList = []\n",
    "# for i in recreioBands:\n",
    "#     bandsList.append(i[1])\n",
    "# imagesCombinedAray = np.array(bandsList)\n",
    "# imagesCombinedAray.shape\n",
    "recreioFile = 'images/lagoa_freitas/2015/lagoa_freitas_v1_multiband_6.TIF'\n",
    "recreioDs, recreioFeatures = raster.read(recreioFile, bands='all')\n",
    "print(\"Recreio multispectral image shape: \", recreioFeatures.shape)"
   ]
  },
  {
   "cell_type": "code",
   "execution_count": 5,
   "metadata": {},
   "outputs": [
    {
     "name": "stdout",
     "output_type": "stream",
     "text": [
      "The \"changeDimension()\" function has moved to \"array_to_table()\" and will be deprecated in future versions. Please check the pyrsgis documentation at https://pyrsgis.readthedocs.io/en/master/ for more details.\n",
      "The \"changeDimension()\" function has moved to \"array_to_table()\" and will be deprecated in future versions. Please check the pyrsgis documentation at https://pyrsgis.readthedocs.io/en/master/ for more details.\n",
      "The \"changeDimension()\" function has moved to \"array_to_table()\" and will be deprecated in future versions. Please check the pyrsgis documentation at https://pyrsgis.readthedocs.io/en/master/ for more details.\n",
      "Bangalore Multispectral image shape:  (4198376, 6)\n",
      "Bangalore Binary built-up image shape:  (4198376,)\n",
      "Hyderabad Multispectral image shape:  (1391808, 6)\n"
     ]
    }
   ],
   "source": [
    "# Clean the labelled data to replace NoData values by zero\n",
    "labelBangalore = (labelBangalore == 1).astype(int)\n",
    "\n",
    "# Reshape the array to single dimensional array\n",
    "featuresBangalore = changeDimension(featuresBangalore)\n",
    "labelBangalore = changeDimension (labelBangalore)\n",
    "featuresHyderabad = changeDimension(featuresHyderabad)\n",
    "nBands = featuresBangalore.shape[1]\n",
    "\n",
    "print(\"Bangalore Multispectral image shape: \", featuresBangalore.shape)\n",
    "print(\"Bangalore Binary built-up image shape: \", labelBangalore.shape)\n",
    "print(\"Hyderabad Multispectral image shape: \", featuresHyderabad.shape)"
   ]
  },
  {
   "cell_type": "code",
   "execution_count": 6,
   "metadata": {},
   "outputs": [
    {
     "name": "stdout",
     "output_type": "stream",
     "text": [
      "(2519025, 6)\n",
      "(2519025,)\n",
      "(1679351, 6)\n",
      "(1679351,)\n"
     ]
    }
   ],
   "source": [
    "# Split testing and training datasets\n",
    "xTrain, xTest, yTrain, yTest = train_test_split(featuresBangalore, labelBangalore, test_size=0.4, random_state=42)\n",
    "\n",
    "print(xTrain.shape)\n",
    "print(yTrain.shape)\n",
    "\n",
    "print(xTest.shape)\n",
    "print(yTest.shape)"
   ]
  },
  {
   "cell_type": "code",
   "execution_count": 7,
   "metadata": {},
   "outputs": [
    {
     "data": {
      "text/plain": [
       "array([[ 26,  26,  48,  71, 142,  28],\n",
       "       [ 41,  46,  52,  87, 144,  51],\n",
       "       [ 34,  36,  74,  94, 149,  44],\n",
       "       ...,\n",
       "       [ 31,  33,  57,  85, 146,  37],\n",
       "       [ 34,  42,  64, 125, 150,  59],\n",
       "       [ 33,  42,  61,  96, 144,  42]])"
      ]
     },
     "execution_count": 7,
     "metadata": {},
     "output_type": "execute_result"
    }
   ],
   "source": [
    "xTrain"
   ]
  },
  {
   "cell_type": "code",
   "execution_count": 9,
   "metadata": {},
   "outputs": [
    {
     "name": "stdout",
     "output_type": "stream",
     "text": [
      "(2519025, 1, 6) (1679351, 1, 6) (1391808, 1, 6)\n"
     ]
    }
   ],
   "source": [
    "# Normalise the data\n",
    "xTrain = xTrain / 255.0 # bits\n",
    "xTest = xTest / 255.0\n",
    "featuresHyderabad = featuresHyderabad / 255.0\n",
    "\n",
    "# Reshape the data\n",
    "xTrain = xTrain.reshape((xTrain.shape[0], 1, xTrain.shape[1]))\n",
    "xTest = xTest.reshape((xTest.shape[0], 1, xTest.shape[1]))\n",
    "featuresHyderabad = featuresHyderabad.reshape((featuresHyderabad.shape[0], 1, featuresHyderabad.shape[1]))\n",
    "\n",
    "# Print the shape of reshaped data\n",
    "print(xTrain.shape, xTest.shape, featuresHyderabad.shape)"
   ]
  },
  {
   "cell_type": "code",
   "execution_count": null,
   "metadata": {},
   "outputs": [],
   "source": []
  }
 ],
 "metadata": {
  "kernelspec": {
   "display_name": "Python 3.8.10 ('venv': venv)",
   "language": "python",
   "name": "python3"
  },
  "language_info": {
   "codemirror_mode": {
    "name": "ipython",
    "version": 3
   },
   "file_extension": ".py",
   "mimetype": "text/x-python",
   "name": "python",
   "nbconvert_exporter": "python",
   "pygments_lexer": "ipython3",
   "version": "3.8.10"
  },
  "orig_nbformat": 4,
  "vscode": {
   "interpreter": {
    "hash": "7a6c7cdbf41dc7d303c995421279d744b386987621c309ce29c3de885d0328e3"
   }
  }
 },
 "nbformat": 4,
 "nbformat_minor": 2
}
