{
 "cells": [
  {
   "cell_type": "code",
   "execution_count": 3,
   "metadata": {},
   "outputs": [],
   "source": [
    "import numpy as np\n",
    "from PIL import Image as im"
   ]
  },
  {
   "cell_type": "code",
   "execution_count": 4,
   "metadata": {},
   "outputs": [
    {
     "name": "stdout",
     "output_type": "stream",
     "text": [
      "images/output_3_land8/10_epochs/b_234_0_5.png\n",
      "images/output_3_land8/50_epochs/b_234_0_5.png\n",
      "images/output_3_land8/100_epochs/b_234_0_5.png\n",
      "images/output_3_land8/10_epochs/b_256_0_5.png\n",
      "images/output_3_land8/50_epochs/b_256_0_5.png\n",
      "images/output_3_land8/100_epochs/b_256_0_5.png\n",
      "images/output_3_land8/10_epochs/b_345_0_5.png\n",
      "images/output_3_land8/50_epochs/b_345_0_5.png\n",
      "images/output_3_land8/100_epochs/b_345_0_5.png\n",
      "images/output_3_land8/10_epochs/b_allb_0_5.png\n",
      "images/output_3_land8/50_epochs/b_allb_0_5.png\n",
      "images/output_3_land8/100_epochs/b_allb_0_5.png\n"
     ]
    }
   ],
   "source": [
    "# Cálcula MSE de resultado RN com o rótulo\n",
    "path = 'images/output_3_land8/'\n",
    "bandas= ['234','256', '345','allb']\n",
    "eps = ['10', '50', '100']\n",
    "corte = '0_5'\n",
    "img_rotulo = 'images/output/png/rotulo_final_from_infravermelho_normaMax.png'\n",
    "\n",
    "# Valida as imagens\n",
    "for banda in bandas:\n",
    "    for ep in eps:\n",
    "        path_in = path + ep + '_epochs/b_' + banda + '_' + corte + '.png'\n",
    "        print(path_in)\n",
    "        img_in = im.open(path_in)\n",
    "        img_base = im.open(img_rotulo)\n",
    "\n",
    "        w, h = img_in.size\n",
    "        wt, ht = img_base.size\n",
    "        if w != wt or h != ht:\n",
    "            print('TESTE')\n",
    "            raise Exception('Resolução diferente entre as images ' + path_in + ' e ' + img_rotulo)\n",
    "        \n",
    "\n",
    "# Lê as imagens e realiza a comparação\n",
    "path_numeros_result = 'images/out_result/'\n",
    "img_rotulo = im.open(img_rotulo)\n",
    "for banda in bandas:\n",
    "    for ep in eps:\n",
    "        path_in = path + ep + '_epochs/b_' + banda + '_' + corte + '.png'\n",
    "        img_in = im.open(path_in)\n",
    "\n",
    "        w, h = img_in.size\n",
    "        N = w*h\n",
    "        somatorio = 0\n",
    "        for i in range(w):\n",
    "            for j in range(h):\n",
    "                pixel_in = img_in.getpixel((i,j))\n",
    "                pixel_rot = img_rotulo.getpixel((i,j))\n",
    "                somatorio += (pixel_in - pixel_rot)**2\n",
    "        \n",
    "        mse = somatorio / N\n",
    "                \n",
    "\n",
    "        # Escreve os números em arquivo txt\n",
    "        with open(f'{path_numeros_result}mse.txt', 'a') as fout:\n",
    "            fout.write(f'b_{banda}_ep_{ep}_corte_{corte}T_rotulo\\n')\n",
    "            fout.write('MSE = %.3f' % (mse))\n",
    "            fout.write('\\n\\n')\n",
    "            "
   ]
  },
  {
   "cell_type": "code",
   "execution_count": 10,
   "metadata": {},
   "outputs": [
    {
     "name": "stdout",
     "output_type": "stream",
     "text": [
      "images/out_knn_land8/234_10_maxmin.png\n",
      "images/out_knn_land8/234_50_maxmin.png\n",
      "images/out_knn_land8/234_100_maxmin.png\n",
      "images/out_knn_land8/256_10_maxmin.png\n",
      "images/out_knn_land8/256_50_maxmin.png\n",
      "images/out_knn_land8/256_100_maxmin.png\n",
      "images/out_knn_land8/345_10_maxmin.png\n",
      "images/out_knn_land8/345_50_maxmin.png\n",
      "images/out_knn_land8/345_100_maxmin.png\n",
      "images/out_knn_land8/allb_10_maxmin.png\n",
      "images/out_knn_land8/allb_50_maxmin.png\n",
      "images/out_knn_land8/allb_100_maxmin.png\n"
     ]
    }
   ],
   "source": [
    "# Cálcula MSE de resultado KNN com o rótulo\n",
    "#path = 'images/output_3_land8/'\n",
    "path = 'images/out_knn_land8/'\n",
    "bandas= ['234','256', '345','allb']\n",
    "qtd_ks = ['10', '50', '100']\n",
    "img_rotulo = 'images/output/png/rotulo_final_from_infravermelho_normaMax.png'\n",
    "\n",
    "# Valida as imagens\n",
    "for banda in bandas:\n",
    "    for qtd_k in qtd_ks:\n",
    "        path_in = path + banda + '_' + qtd_k + '_maxmin.png'\n",
    "        print(path_in)\n",
    "        img_in = im.open(path_in)\n",
    "        img_base = im.open(img_rotulo)\n",
    "\n",
    "        w, h = img_in.size\n",
    "        wt, ht = img_base.size\n",
    "        if w != wt or h != ht:\n",
    "            print('TESTE')\n",
    "            raise Exception('Resolução diferente entre as images ' + path_in + ' e ' + img_rotulo)\n",
    "        \n",
    "\n",
    "# Lê as imagens e realiza a comparação\n",
    "path_numeros_result = 'images/out_result_knn/'\n",
    "img_rotulo = im.open(img_rotulo)\n",
    "for banda in bandas:\n",
    "    for qtd_k in qtd_ks:\n",
    "        path_in = path + banda + '_' + qtd_k + '_maxmin.png'\n",
    "        img_in = im.open(path_in)\n",
    "\n",
    "        w, h = img_in.size\n",
    "        N = w*h\n",
    "        somatorio = 0\n",
    "        for i in range(w):\n",
    "            for j in range(h):\n",
    "                pixel_in = img_in.getpixel((i,j))\n",
    "                pixel_rot = img_rotulo.getpixel((i,j))\n",
    "                somatorio += (pixel_in - pixel_rot)**2\n",
    "\n",
    "        mse = somatorio / N\n",
    "\n",
    "        # Escreve os números em arquivo txt\n",
    "        with open(f'{path_numeros_result}mse.txt', 'a') as fout:\n",
    "            #5_b_234_0_3T25_b_234_0_3:\n",
    "            fout.write(f'{qtd_k}_b_{banda}T_rotulo\\n')\n",
    "            fout.write('MSE = %.3f' % (mse))\n",
    "            fout.write('\\n\\n')"
   ]
  },
  {
   "cell_type": "code",
   "execution_count": null,
   "metadata": {},
   "outputs": [],
   "source": []
  }
 ],
 "metadata": {
  "kernelspec": {
   "display_name": "venv",
   "language": "python",
   "name": "python3"
  },
  "language_info": {
   "codemirror_mode": {
    "name": "ipython",
    "version": 3
   },
   "file_extension": ".py",
   "mimetype": "text/x-python",
   "name": "python",
   "nbconvert_exporter": "python",
   "pygments_lexer": "ipython3",
   "version": "3.8.10"
  },
  "orig_nbformat": 4
 },
 "nbformat": 4,
 "nbformat_minor": 2
}
