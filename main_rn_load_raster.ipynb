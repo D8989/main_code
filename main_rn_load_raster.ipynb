{
 "cells": [
  {
   "cell_type": "code",
   "execution_count": 1,
   "metadata": {},
   "outputs": [],
   "source": [
    "import os\n",
    "os.chdir('/mnt/mint_files/TCC/main_code/')"
   ]
  },
  {
   "cell_type": "code",
   "execution_count": 2,
   "metadata": {},
   "outputs": [
    {
     "name": "stderr",
     "output_type": "stream",
     "text": [
      "2023-06-05 03:01:05.386104: W tensorflow/stream_executor/platform/default/dso_loader.cc:64] Could not load dynamic library 'libcudart.so.11.0'; dlerror: libcudart.so.11.0: cannot open shared object file: No such file or directory\n",
      "2023-06-05 03:01:05.386125: I tensorflow/stream_executor/cuda/cudart_stub.cc:29] Ignore above cudart dlerror if you do not have a GPU set up on your machine.\n"
     ]
    }
   ],
   "source": [
    "import numpy as np\n",
    "from tensorflow import keras\n",
    "from glob import glob\n",
    "import rasterio as rio\n",
    "from pyrsgis import raster\n",
    "from pyrsgis.convert import changeDimension\n",
    "from pyrsgis.convert import array_to_table\n",
    "import matplotlib.pyplot as plt\n",
    "from sklearn.preprocessing import StandardScaler\n",
    "from PIL import Image as im"
   ]
  },
  {
   "cell_type": "code",
   "execution_count": 13,
   "metadata": {},
   "outputs": [
    {
     "name": "stdout",
     "output_type": "stream",
     "text": [
      "Recreio multispectral image shape:  (6, 360, 500)\n"
     ]
    }
   ],
   "source": [
    "recreioFile = 'images/lagoa_freitas/2015/lagoa_freitas_v1_multiband_6.TIF'\n",
    "# recreioFile = 'images/lagoa_freitas/land_5/2011/lagoa_freitas_v1_multiband_6.tif'\n",
    "recreioDs, recreioFeatures = raster.read(recreioFile, bands='all')\n",
    "print(\"Recreio multispectral image shape: \", recreioFeatures.shape)"
   ]
  },
  {
   "cell_type": "code",
   "execution_count": 14,
   "metadata": {},
   "outputs": [
    {
     "data": {
      "text/plain": [
       "(180000, 6)"
      ]
     },
     "execution_count": 14,
     "metadata": {},
     "output_type": "execute_result"
    }
   ],
   "source": [
    "featuresRecreio = array_to_table(recreioFeatures) #changeDimension(recreioFeatures)\n",
    "featuresRecreio.shape"
   ]
  },
  {
   "cell_type": "code",
   "execution_count": 5,
   "metadata": {},
   "outputs": [
    {
     "data": {
      "text/plain": [
       "5110"
      ]
     },
     "execution_count": 5,
     "metadata": {},
     "output_type": "execute_result"
    }
   ],
   "source": [
    "np.min(featuresRecreio) "
   ]
  },
  {
   "cell_type": "code",
   "execution_count": 30,
   "metadata": {},
   "outputs": [
    {
     "data": {
      "text/plain": [
       "array([0.25603261, 0.22211957, 0.18494565, 0.1726087 , 0.30266304,\n",
       "       0.27777174])"
      ]
     },
     "execution_count": 30,
     "metadata": {},
     "output_type": "execute_result"
    }
   ],
   "source": [
    "valoresCopiados = np.copy(featuresRecreio)\n",
    "valMin =  np.min(featuresRecreio)\n",
    "valorMax = np.max(featuresRecreio)\n",
    "valoresCopiados = valoresCopiados - valMin\n",
    "valoresCopiados = valoresCopiados / (valorMax - valMin)\n",
    "\n",
    "valoresCopiados[0]"
   ]
  },
  {
   "cell_type": "code",
   "execution_count": 15,
   "metadata": {},
   "outputs": [
    {
     "data": {
      "text/plain": [
       "array([[0.14985885, 0.14033722, 0.12990005, 0.12643626, 0.16295109,\n",
       "        0.15596246],\n",
       "       [0.15553521, 0.14813458, 0.13914702, 0.13800259, 0.16768139,\n",
       "        0.17068742],\n",
       "       [0.15364309, 0.14540322, 0.13670558, 0.13551537, 0.17149615,\n",
       "        0.17833219],\n",
       "       ...,\n",
       "       [0.15686275, 0.14177157, 0.12680247, 0.11462577, 0.10626383,\n",
       "        0.09524681],\n",
       "       [0.15719844, 0.142916  , 0.12765698, 0.11599908, 0.10768292,\n",
       "        0.09710842],\n",
       "       [0.1588922 , 0.14421302, 0.12816052, 0.11584649, 0.1082475 ,\n",
       "        0.09922942]])"
      ]
     },
     "execution_count": 15,
     "metadata": {},
     "output_type": "execute_result"
    }
   ],
   "source": [
    "# Normalize Recreio\n",
    "featuresRecreio = featuresRecreio / 65535.0 # 16 bits\n",
    "# featuresRecreio = featuresRecreio / 255.0 # 8 bits\n",
    "\n",
    "# Normaliza com a formula (x - x_min) / (x_max - x_min)\n",
    "#valMin =  np.min(featuresRecreio)\n",
    "#valorMax = np.max(featuresRecreio)\n",
    "#featuresRecreio = featuresRecreio - valMin\n",
    "#featuresRecreio = featuresRecreio / (valorMax - valMin)\n",
    "\n",
    "featuresRecreio"
   ]
  },
  {
   "cell_type": "code",
   "execution_count": 16,
   "metadata": {},
   "outputs": [
    {
     "name": "stdout",
     "output_type": "stream",
     "text": [
      "(180000, 1, 6)\n"
     ]
    }
   ],
   "source": [
    "# reshape\n",
    "featuresRecreio = featuresRecreio.reshape((featuresRecreio.shape[0], 1, featuresRecreio.shape[1]))\n",
    "print(featuresRecreio.shape)"
   ]
  },
  {
   "cell_type": "code",
   "execution_count": 17,
   "metadata": {},
   "outputs": [
    {
     "name": "stdout",
     "output_type": "stream",
     "text": [
      "0.07797360189211872\n",
      "0.3587396047913329\n"
     ]
    }
   ],
   "source": [
    "# Escolhe as bandas para serem utilizadas. entre 0 e 5. alterar a quantidade na primeira camada da RN\n",
    "# [1,2,3] -> bands 2,3,4 - RGB\n",
    "# [2,3,4] -> bands 3,4,5 - Infra vermelho\n",
    "# [1,4,5] -> bands 2,5,6 - Agricultura\n",
    "# [0,2,3] -> bands 1,3,4 - Bathymetric\n",
    "# featuresRecreio_b = featuresRecreio[:,:,[1,2,3]]\n",
    "print(np.min(featuresRecreio))\n",
    "print(np.max(featuresRecreio))"
   ]
  },
  {
   "cell_type": "code",
   "execution_count": 20,
   "metadata": {},
   "outputs": [
    {
     "name": "stdout",
     "output_type": "stream",
     "text": [
      "modelos/my_model_234_2.h5\n",
      "modelos/my_model_345_2.h5\n",
      "modelos/my_model_256_2.h5\n",
      "modelos/my_model_134_2.h5\n",
      "modelos/my_model_allb_2.h5\n",
      "modelos/my_model_234_5.h5\n",
      "modelos/my_model_345_5.h5\n",
      "modelos/my_model_256_5.h5\n",
      "modelos/my_model_134_5.h5\n",
      "modelos/my_model_allb_5.h5\n",
      "modelos/my_model_234_10.h5\n",
      "modelos/my_model_345_10.h5\n",
      "modelos/my_model_256_10.h5\n",
      "modelos/my_model_134_10.h5\n",
      "modelos/my_model_allb_10.h5\n",
      "modelos/my_model_234_20.h5\n",
      "modelos/my_model_345_20.h5\n",
      "modelos/my_model_256_20.h5\n",
      "modelos/my_model_134_20.h5\n",
      "modelos/my_model_allb_20.h5\n",
      "modelos/my_model_234_25.h5\n",
      "modelos/my_model_345_25.h5\n",
      "modelos/my_model_256_25.h5\n",
      "modelos/my_model_134_25.h5\n",
      "modelos/my_model_allb_25.h5\n"
     ]
    }
   ],
   "source": [
    "valor_cortes = [0.005,0.01, 0.05, 0.10, 0.20, 0.30, 0.40, 0.50, 0.60, 0.70, 0.80, 0.90, 0.95, 0.99, 0.999, 0.9995, 0.9999]\n",
    "# valor_cortes = [0.995, 0.999, 0.9995, 0.9999]\n",
    "total_cortes = 5\n",
    "arr_ep = ['2', '5', '10', '20', '25']\n",
    "# arr_ep = ['2']\n",
    "# arr_ep = ['100']\n",
    "\n",
    "# land8\n",
    "featuresRecreio_many = [\n",
    "    [\"234\", np.copy(featuresRecreio[:,:,[1,2,3]])],\n",
    "    [\"345\", np.copy(featuresRecreio[:,:,[2,3,4]])],\n",
    "    [\"256\", np.copy(featuresRecreio[:,:,[1,4,5]])],\n",
    "    [\"134\", np.copy(featuresRecreio[:,:,[0,2,3]])],\n",
    "    [\"allb\", np.copy(featuresRecreio)]\n",
    "]\n",
    "\n",
    "# landsat_5\n",
    "#featuresRecreio_many = [\n",
    "#    [\"234\", np.copy(featuresRecreio[:,:,[0,1,2]])],\n",
    "#    [\"345\", np.copy(featuresRecreio[:,:,[1,2,3]])],\n",
    "#    [\"256\", np.copy(featuresRecreio[:,:,[0,3,4]])],\n",
    "#    [\"allb\", np.copy(featuresRecreio)]\n",
    "#]\n",
    "\n",
    "# featuresRecreio_many = [[\"allb\", featuresRecreio]]\n",
    "total_features = 5\n",
    "# \n",
    "for ep in arr_ep:\n",
    "    for i in range(total_features):\n",
    "        print(f'modelos/my_model_{featuresRecreio_many[i][0]}_{ep}.h5')\n",
    "        modelo = keras.models.load_model(f'modelos/my_model_{featuresRecreio_many[i][0]}_{ep}.h5')\n",
    "        predicao = modelo.predict(featuresRecreio_many[i][1])\n",
    "        visualiza = predicao[:,1]\n",
    "        for valCorte in valor_cortes:\n",
    "            resultPredict = (visualiza>valCorte).astype(int)\n",
    "            arrayOfnumeros = np.array(resultPredict)\n",
    "            # (360, 500) - lagoa v1\n",
    "            # (200, 150) - lagoa v2\n",
    "            # (300, 650) - barra\n",
    "            arrayOfnumeros = np.reshape(arrayOfnumeros, (360, 500))\n",
    "            data = im.fromarray((arrayOfnumeros*255).astype(np.uint8))\n",
    "            data.save(f'images/output_2_land8/{ep}_epochs/b_{featuresRecreio_many[i][0]}_{str(valCorte).replace(\".\", \"_\")}.png')"
   ]
  }
 ],
 "metadata": {
  "kernelspec": {
   "display_name": "venv",
   "language": "python",
   "name": "python3"
  },
  "language_info": {
   "codemirror_mode": {
    "name": "ipython",
    "version": 3
   },
   "file_extension": ".py",
   "mimetype": "text/x-python",
   "name": "python",
   "nbconvert_exporter": "python",
   "pygments_lexer": "ipython3",
   "version": "3.8.10"
  },
  "orig_nbformat": 4,
  "vscode": {
   "interpreter": {
    "hash": "7a6c7cdbf41dc7d303c995421279d744b386987621c309ce29c3de885d0328e3"
   }
  }
 },
 "nbformat": 4,
 "nbformat_minor": 2
}
