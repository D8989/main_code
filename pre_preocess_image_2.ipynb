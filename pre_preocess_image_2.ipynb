{
 "cells": [
  {
   "cell_type": "code",
   "execution_count": null,
   "metadata": {},
   "outputs": [],
   "source": [
    "# Pré processamento para formar a imagem juntando apenas as bandas selecionadas"
   ]
  },
  {
   "cell_type": "code",
   "execution_count": 2,
   "metadata": {},
   "outputs": [],
   "source": [
    "import numpy as np\n",
    "from PIL import Image"
   ]
  },
  {
   "cell_type": "code",
   "execution_count": 17,
   "metadata": {},
   "outputs": [],
   "source": [
    "# Lê as Bandas\n",
    "# PS: A ordem das banda influenciam no resultado\n",
    "# land 5 -> land 8\n",
    "# 1 -> 2 (blue)\n",
    "# 2 -> 3 (green)\n",
    "# 3 -> 4 (red)\n",
    "# 4 -> 5 (near-infrared)\n",
    "# 5 -> 6 (short-wave infrared)\n",
    "# 7 -> X (short-wave infrared) \n",
    "\n",
    "#r = Image.open(\"images/barra/2015/barra_B4.TIF\")\n",
    "#g = Image.open(\"images/barra/2015/barra_B3.TIF\")\n",
    "#b = Image.open(\"images/barra/2015/barra_B2.TIF\")\n",
    "\n",
    "# r = Image.open(\"images/lagoa_freitas/2015/lagoa_freitas_v1_B4.TIF\")\n",
    "# g = Image.open(\"images/lagoa_freitas/2015/lagoa_freitas_v1_B3.TIF\")\n",
    "# b = Image.open(\"images/lagoa_freitas/2015/lagoa_freitas_v1_B1.TIF\")\n",
    "\n",
    "r = Image.open(\"images/lagoa_freitas/land_5/2011/lagoa_freitas_v1_B3.tif\")\n",
    "g = Image.open(\"images/lagoa_freitas/land_5/2011/lagoa_freitas_v1_B2.tif\")\n",
    "b = Image.open(\"images/lagoa_freitas/land_5/2011/lagoa_freitas_v1_B1.tif\")\n",
    "\n"
   ]
  },
  {
   "cell_type": "code",
   "execution_count": 18,
   "metadata": {},
   "outputs": [],
   "source": [
    "# Convert PIL Images to Numpy arrays\n",
    "npRed   = np.array(r)\n",
    "npGreen = np.array(g)\n",
    "npBlue  = np.array(b)"
   ]
  },
  {
   "cell_type": "code",
   "execution_count": 19,
   "metadata": {},
   "outputs": [
    {
     "data": {
      "text/plain": [
       "array([[94, 94, 89, ...,  5,  6,  5],\n",
       "       [91, 91, 95, ...,  7,  6,  5],\n",
       "       [77, 81, 92, ...,  4,  6,  6],\n",
       "       ...,\n",
       "       [45, 62, 70, ...,  6,  6,  7],\n",
       "       [49, 50, 60, ...,  7,  6,  7],\n",
       "       [60, 58, 62, ...,  8,  7,  7]], dtype=uint8)"
      ]
     },
     "execution_count": 19,
     "metadata": {},
     "output_type": "execute_result"
    }
   ],
   "source": [
    "# Get rid of the pesky -3.4e+38 marker for out-of-bounds pixels\n",
    "npRed[npRed < 0]     = 0\n",
    "npBlue[npBlue < 0]   = 0\n",
    "npGreen[npGreen < 0] = 0\n",
    "\n",
    "npRed"
   ]
  },
  {
   "cell_type": "code",
   "execution_count": 14,
   "metadata": {},
   "outputs": [
    {
     "data": {
      "text/plain": [
       "255"
      ]
     },
     "execution_count": 14,
     "metadata": {},
     "output_type": "execute_result"
    }
   ],
   "source": [
    "# Find maximum across all channels for scaling\n",
    "# Está etapa é para utilizar o valor máximp para normalizar os pixels e deixar entre os valores de 0 à 254.\n",
    "# Porém em meus testes, o resultado não ficou satisfatório. Então normalizei com o valor máximo do pixel de 16 bits\n",
    "\n",
    "max = np.max([npRed,npGreen,npBlue])\n",
    "max"
   ]
  },
  {
   "cell_type": "code",
   "execution_count": 20,
   "metadata": {},
   "outputs": [
    {
     "data": {
      "text/plain": [
       "array([[77, 77, 76, ..., 59, 60, 61],\n",
       "       [74, 73, 77, ..., 59, 60, 59],\n",
       "       [70, 71, 72, ..., 61, 62, 62],\n",
       "       ...,\n",
       "       [63, 72, 77, ..., 68, 64, 65],\n",
       "       [60, 66, 75, ..., 66, 66, 67],\n",
       "       [64, 68, 77, ..., 67, 66, 64]], dtype=uint8)"
      ]
     },
     "execution_count": 20,
     "metadata": {},
     "output_type": "execute_result"
    }
   ],
   "source": [
    "# Scale all channels equally to range 0..255 to fit in a PNG (could use 65,535 and np.uint16 instead)\n",
    "\n",
    "## Tentativa original, não ocorreu um resultado satisfatório\n",
    "#Rx = (npRed * 65535/max).astype(np.float64)\n",
    "#Gx = (npGreen * 65535/max).astype(np.float64)\n",
    "#Bx = (npBlue * 65535/max).astype(np.float64)\n",
    "\n",
    "# Segunda tentativa, dá erro por causa do tipo utilizado\n",
    "# R = (npRed * 255/max).astype(np.uint8)\n",
    "# G = (npGreen * 255/max).astype(np.uint8)\n",
    "# B = (npBlue * 255/max).astype(np.uint8)\n",
    "\n",
    "# Melhor resultado, normalizo com o valor máximo do pixel\n",
    "# E então multiplico pelo valor 255 para o valor final ficar entre 0 e 255\n",
    "Rx = (npRed / 255).astype(np.float64)\n",
    "Gx = (npGreen / 255).astype(np.float64)\n",
    "Bx = (npBlue / 255).astype(np.float64)\n",
    "\n",
    "R = (Rx * 255).astype(np.uint8)\n",
    "G = (Gx * 255).astype(np.uint8)\n",
    "B = (Bx * 255).astype(np.uint8)\n",
    "\n",
    "# Tentativa de criar as cores com um valor maior que 255\n",
    "# R = (Rx * 65535).astype(np.uint8)\n",
    "# G = (Gx * 65535).astype(np.uint8)\n",
    "# B = (Bx * 65535).astype(np.uint8)\n",
    "\n",
    "\n",
    "B"
   ]
  },
  {
   "cell_type": "code",
   "execution_count": 21,
   "metadata": {},
   "outputs": [],
   "source": [
    "# Build a PNG\n",
    "RGB = np.dstack((R,G,B))\n",
    "outputPath = \"images/output/png/land_5/lagoa_v1_agricultura.png\"\n",
    "Image.fromarray(RGB).save(outputPath)"
   ]
  },
  {
   "cell_type": "code",
   "execution_count": null,
   "metadata": {},
   "outputs": [],
   "source": []
  }
 ],
 "metadata": {
  "kernelspec": {
   "display_name": "Python 3.8.10 ('venv': venv)",
   "language": "python",
   "name": "python3"
  },
  "language_info": {
   "codemirror_mode": {
    "name": "ipython",
    "version": 3
   },
   "file_extension": ".py",
   "mimetype": "text/x-python",
   "name": "python",
   "nbconvert_exporter": "python",
   "pygments_lexer": "ipython3",
   "version": "3.8.10"
  },
  "orig_nbformat": 4,
  "vscode": {
   "interpreter": {
    "hash": "7a6c7cdbf41dc7d303c995421279d744b386987621c309ce29c3de885d0328e3"
   }
  }
 },
 "nbformat": 4,
 "nbformat_minor": 2
}
