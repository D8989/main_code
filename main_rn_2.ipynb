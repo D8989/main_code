{
 "cells": [
  {
   "cell_type": "code",
   "execution_count": null,
   "metadata": {},
   "outputs": [],
   "source": [
    "# Classificação pelo RN"
   ]
  },
  {
   "cell_type": "code",
   "execution_count": 1,
   "metadata": {},
   "outputs": [],
   "source": [
    "import os\n",
    "os.chdir('/mnt/mint_files/TCC/main_code/')"
   ]
  },
  {
   "cell_type": "code",
   "execution_count": 2,
   "metadata": {},
   "outputs": [
    {
     "name": "stderr",
     "output_type": "stream",
     "text": [
      "2023-05-22 02:00:44.118755: W tensorflow/stream_executor/platform/default/dso_loader.cc:64] Could not load dynamic library 'libcudart.so.11.0'; dlerror: libcudart.so.11.0: cannot open shared object file: No such file or directory\n",
      "2023-05-22 02:00:44.118772: I tensorflow/stream_executor/cuda/cudart_stub.cc:29] Ignore above cudart dlerror if you do not have a GPU set up on your machine.\n"
     ]
    }
   ],
   "source": [
    "import numpy as np\n",
    "from tensorflow import keras\n",
    "from pyrsgis import raster\n",
    "from pyrsgis.convert import changeDimension\n",
    "from sklearn.model_selection import train_test_split\n",
    "from sklearn.metrics import confusion_matrix, precision_score, recall_score\n",
    "from glob import glob\n",
    "import rasterio as rio\n",
    "import matplotlib.pyplot as plt\n",
    "from sklearn.preprocessing import StandardScaler"
   ]
  },
  {
   "cell_type": "code",
   "execution_count": 3,
   "metadata": {},
   "outputs": [
    {
     "name": "stdout",
     "output_type": "stream",
     "text": [
      "Bangalore Multispectral image shape:  (6, 2054, 2044)\n",
      "Bangalore Binary built-up image shape:  (2054, 2044)\n",
      "Hyderabad Multispectral image shape:  (6, 1318, 1056)\n"
     ]
    }
   ],
   "source": [
    "# Lê a imagem de treino e o seu gabarito\n",
    "\n",
    "# Assign file names\n",
    "mxBangalore = 'images/bangalore_data/l5_Bangalore2011_raw.tif'\n",
    "builtupBangalore = 'images/bangalore_data/l5_Bangalore2011_builtup.tif'\n",
    "mxHyderabad = 'images/bangalore_data/l5_Hyderabad2011_raw.tif'\n",
    "\n",
    "# Read the rasters as array\n",
    "ds1, featuresBangalore = raster.read(mxBangalore, bands='all')\n",
    "ds2, labelBangalore = raster.read(builtupBangalore, bands=1)\n",
    "ds3, featuresHyderabad = raster.read(mxHyderabad, bands='all')\n",
    "\n",
    "# Print the size of the arrays\n",
    "print(\"Bangalore Multispectral image shape: \", featuresBangalore.shape)\n",
    "print(\"Bangalore Binary built-up image shape: \", labelBangalore.shape)\n",
    "print(\"Hyderabad Multispectral image shape: \", featuresHyderabad.shape)"
   ]
  },
  {
   "cell_type": "code",
   "execution_count": 75,
   "metadata": {},
   "outputs": [
    {
     "name": "stdout",
     "output_type": "stream",
     "text": [
      "Imagem shape D(Bands: 6, Height: 300, Width: 650)\n"
     ]
    }
   ],
   "source": [
    "# Lê as imagens do teste\n",
    "\n",
    "recreioFile = 'images/lagoa_freitas/2015/lagoa_freitas_v1_B[1-6].TIF'\n",
    "# recreioFile = 'images/barra/2015/barra_B[1-6].TIF'\n",
    "recreio_bands = glob(recreioFile)\n",
    "recreio_bands.sort()\n",
    "\n",
    "#recreioFile = [\n",
    "#    'images/barra/2015/barra_B4.TIF',\n",
    "#    'images/barra/2015/barra_B3.TIF',\n",
    "#    'images/barra/2015/barra_B2.TIF',\n",
    "#]\n",
    "#recreio_bands = recreioFile\n",
    "\n",
    "l = []\n",
    "for i in recreio_bands:\n",
    "    with rio.open(i, 'r') as f:\n",
    "        l.append(f.read(1))\n",
    "\n",
    "# Data\n",
    "arr_st = np.stack(l)\n",
    "\n",
    "txt = 'Imagem shape D(Bands: {0}, Height: {1}, Width: {2})'.format(arr_st.shape[0], arr_st.shape[1], arr_st.shape[2])\n",
    "print(txt)"
   ]
  },
  {
   "cell_type": "code",
   "execution_count": 3,
   "metadata": {},
   "outputs": [
    {
     "ename": "NameError",
     "evalue": "name 'labelBangalore' is not defined",
     "output_type": "error",
     "traceback": [
      "\u001b[0;31m---------------------------------------------------------------------------\u001b[0m",
      "\u001b[0;31mNameError\u001b[0m                                 Traceback (most recent call last)",
      "\u001b[1;32m/mnt/mint_files/TCC/main_code/main_rn_2.ipynb Cell 6\u001b[0m in \u001b[0;36m<module>\u001b[0;34m\u001b[0m\n\u001b[1;32m      <a href='vscode-notebook-cell:/mnt/mint_files/TCC/main_code/main_rn_2.ipynb#W5sZmlsZQ%3D%3D?line=0'>1</a>\u001b[0m \u001b[39m# Acerta os shape das imagens de treino e de gabarito\u001b[39;00m\n\u001b[1;32m      <a href='vscode-notebook-cell:/mnt/mint_files/TCC/main_code/main_rn_2.ipynb#W5sZmlsZQ%3D%3D?line=1'>2</a>\u001b[0m \n\u001b[1;32m      <a href='vscode-notebook-cell:/mnt/mint_files/TCC/main_code/main_rn_2.ipynb#W5sZmlsZQ%3D%3D?line=2'>3</a>\u001b[0m \u001b[39m# Clean the labelled data to replace NoData values by zero\u001b[39;00m\n\u001b[0;32m----> <a href='vscode-notebook-cell:/mnt/mint_files/TCC/main_code/main_rn_2.ipynb#W5sZmlsZQ%3D%3D?line=3'>4</a>\u001b[0m labelBangalore \u001b[39m=\u001b[39m (labelBangalore \u001b[39m==\u001b[39m \u001b[39m1\u001b[39m)\u001b[39m.\u001b[39mastype(\u001b[39mint\u001b[39m)\n\u001b[1;32m      <a href='vscode-notebook-cell:/mnt/mint_files/TCC/main_code/main_rn_2.ipynb#W5sZmlsZQ%3D%3D?line=5'>6</a>\u001b[0m \u001b[39m# Reshape the array to single dimensional array\u001b[39;00m\n\u001b[1;32m      <a href='vscode-notebook-cell:/mnt/mint_files/TCC/main_code/main_rn_2.ipynb#W5sZmlsZQ%3D%3D?line=6'>7</a>\u001b[0m featuresBangalore \u001b[39m=\u001b[39m changeDimension(featuresBangalore)\n",
      "\u001b[0;31mNameError\u001b[0m: name 'labelBangalore' is not defined"
     ]
    }
   ],
   "source": [
    "# Acerta os shape das imagens de treino e de gabarito\n",
    "\n",
    "# Clean the labelled data to replace NoData values by zero\n",
    "labelBangalore = (labelBangalore == 1).astype(int)\n",
    "\n",
    "# Reshape the array to single dimensional array\n",
    "featuresBangalore = changeDimension(featuresBangalore)\n",
    "labelBangalore = changeDimension (labelBangalore)\n",
    "featuresHyderabad = changeDimension(featuresHyderabad)\n",
    "nBands = featuresBangalore.shape[1]\n",
    "\n",
    "print(\"Bangalore Multispectral image shape: \", featuresBangalore.shape)\n",
    "print(\"Bangalore Binary built-up image shape: \", labelBangalore.shape)\n",
    "print(\"Hyderabad Multispectral image shape: \", featuresHyderabad.shape)"
   ]
  },
  {
   "cell_type": "code",
   "execution_count": 76,
   "metadata": {},
   "outputs": [
    {
     "data": {
      "text/plain": [
       "(195000, 6)"
      ]
     },
     "execution_count": 76,
     "metadata": {},
     "output_type": "execute_result"
    }
   ],
   "source": [
    "# reshape as bandas da imagem de teste\n",
    "x = np.moveaxis(arr_st, 0, -1)\n",
    "x.reshape(-1, arr_st.shape[0]).shape, arr_st.shape[1] * arr_st.shape[2]\n",
    "X_data = x.reshape(-1, arr_st.shape[0])\n",
    "scaler = StandardScaler().fit(X_data)\n",
    "X_scaled = scaler.transform(X_data)\n",
    "\n",
    "X_scaled.shape"
   ]
  },
  {
   "cell_type": "code",
   "execution_count": 7,
   "metadata": {},
   "outputs": [
    {
     "name": "stdout",
     "output_type": "stream",
     "text": [
      "(2519025, 6)\n",
      "(2519025,)\n",
      "(1679351, 6)\n",
      "(1679351,)\n"
     ]
    }
   ],
   "source": [
    "# Split testing and training datasets\n",
    "xTrain, xTest, yTrain, yTest = train_test_split(featuresBangalore, labelBangalore, test_size=0.4, random_state=0)\n",
    "\n",
    "print(xTrain.shape)\n",
    "print(yTrain.shape)\n",
    "\n",
    "print(xTest.shape)\n",
    "print(yTest.shape)"
   ]
  },
  {
   "cell_type": "code",
   "execution_count": 8,
   "metadata": {},
   "outputs": [
    {
     "name": "stdout",
     "output_type": "stream",
     "text": [
      "(2519025, 1, 6) (1679351, 1, 6) (1391808, 1, 6)\n"
     ]
    }
   ],
   "source": [
    "# Normalise the data\n",
    "xTrain = xTrain / 255.0 # bits\n",
    "xTest = xTest / 255.0\n",
    "featuresHyderabad = featuresHyderabad / 255.0\n",
    "\n",
    "# Reshape the data\n",
    "xTrain = xTrain.reshape((xTrain.shape[0], 1, xTrain.shape[1]))\n",
    "xTest = xTest.reshape((xTest.shape[0], 1, xTest.shape[1]))\n",
    "featuresHyderabad = featuresHyderabad.reshape((featuresHyderabad.shape[0], 1, featuresHyderabad.shape[1]))\n",
    "\n",
    "# Print the shape of reshaped data\n",
    "print(xTrain.shape, xTest.shape, featuresHyderabad.shape)"
   ]
  },
  {
   "cell_type": "code",
   "execution_count": 77,
   "metadata": {},
   "outputs": [
    {
     "name": "stdout",
     "output_type": "stream",
     "text": [
      "(195000, 1, 6)\n"
     ]
    }
   ],
   "source": [
    "# Normaliza a imagem de teste\n",
    "X_scaled = X_scaled / 65535.0 # 16 bits\n",
    "\n",
    "# reshape\n",
    "X_scaled = X_scaled.reshape((X_scaled.shape[0], 1, X_scaled.shape[1]))\n",
    "print(X_scaled.shape)"
   ]
  },
  {
   "cell_type": "code",
   "execution_count": 78,
   "metadata": {},
   "outputs": [
    {
     "data": {
      "text/plain": [
       "(2519025, 1, 3)"
      ]
     },
     "execution_count": 78,
     "metadata": {},
     "output_type": "execute_result"
    }
   ],
   "source": [
    "# Escolhe as bandas para serem utilizadas. entre 0 e 5. alterar a quantidade na primeira camada da RN\n",
    "# [1,2,3] -> bands 2,3,4 - RGB\n",
    "# [2,3,4] -> bands 3,4,5 - Infra vermelho\n",
    "# [1,4,5] -> bands 2,5,6 - Agricultura\n",
    "# [0,2,3] -> bands 1,3,4 - Bathymetric\n",
    "xTrain_b = xTrain[:,:,[1,2,3]]\n",
    "xTest_b = xTest[:,:,[1,2,3]]\n",
    "#xTrain_b = xTrain\n",
    "#xTest_b = xTest\n",
    "\n",
    "featuresRecreio_b = X_scaled[:,:,[1,2,3]]\n",
    "#featuresRecreio_b = X_scaled\n",
    "xTrain_b.shape"
   ]
  },
  {
   "cell_type": "code",
   "execution_count": 41,
   "metadata": {},
   "outputs": [
    {
     "name": "stdout",
     "output_type": "stream",
     "text": [
      "Epoch 1/2\n",
      "78720/78720 [==============================] - 50s 632us/step - loss: 0.1465 - accuracy: 0.9464\n",
      "Epoch 2/2\n",
      "78720/78720 [==============================] - 50s 641us/step - loss: 0.1336 - accuracy: 0.9520\n"
     ]
    },
    {
     "data": {
      "text/plain": [
       "<keras.callbacks.History at 0x7fcb2c7b0b50>"
      ]
     },
     "execution_count": 41,
     "metadata": {},
     "output_type": "execute_result"
    }
   ],
   "source": [
    "# Treinamento da rede\n",
    "\n",
    "# Define the parameters of the model\n",
    "model = keras.Sequential([\n",
    "    keras.layers.Flatten(input_shape=(1, 3)), #input_shape=(1, nBands)\n",
    "    keras.layers.Dense(14, activation='relu'),\n",
    "    keras.layers.Dense(2, activation='softmax')]) #softmax\n",
    "\n",
    "# Define the accuracy metrics and parameters\n",
    "model.compile(optimizer=\"adam\", loss=\"sparse_categorical_crossentropy\", metrics=[\"accuracy\"])\n",
    "\n",
    "# Run the model\n",
    "model.fit(xTrain_b, yTrain, epochs=2) # testar auamentando o número de epochs"
   ]
  },
  {
   "cell_type": "code",
   "execution_count": 79,
   "metadata": {},
   "outputs": [
    {
     "data": {
      "text/plain": [
       "array([[0.9594823 , 0.0405177 ],\n",
       "       [0.9594823 , 0.04051771],\n",
       "       [0.9594823 , 0.04051773],\n",
       "       ...,\n",
       "       [0.9594826 , 0.04051737],\n",
       "       [0.9594826 , 0.04051738],\n",
       "       [0.9594826 , 0.04051739]], dtype=float32)"
      ]
     },
     "execution_count": 79,
     "metadata": {},
     "output_type": "execute_result"
    }
   ],
   "source": [
    "# PRedição da imagem teste\n",
    "\n",
    "recreioPredicted = model.predict(featuresRecreio_b)\n",
    "recreioPredicted"
   ]
  },
  {
   "cell_type": "code",
   "execution_count": 53,
   "metadata": {},
   "outputs": [
    {
     "data": {
      "text/plain": [
       "array([0.9594827 , 0.9594827 , 0.9594827 , ..., 0.95948195, 0.95948195,\n",
       "       0.95948195], dtype=float32)"
      ]
     },
     "execution_count": 53,
     "metadata": {},
     "output_type": "execute_result"
    }
   ],
   "source": [
    "# Pega a pocentagem de cada pixel do resuldado da predição\n",
    "predictVisualizacao = recreioPredicted[:,1]\n",
    "predictVisualizacao"
   ]
  },
  {
   "cell_type": "code",
   "execution_count": 54,
   "metadata": {},
   "outputs": [
    {
     "name": "stdout",
     "output_type": "stream",
     "text": [
      "0.9594745\n",
      "0.9594887\n",
      "0.9594815969467163\n"
     ]
    }
   ],
   "source": [
    "# Cálcula a média das porcentagem\n",
    "# Usado como possível número de corte\n",
    "\n",
    "minimo = min(predictVisualizacao)\n",
    "maximo = max(predictVisualizacao)\n",
    "media = (minimo + maximo) / 2.0\n",
    "print(minimo)\n",
    "print(maximo)\n",
    "print(media)"
   ]
  },
  {
   "cell_type": "code",
   "execution_count": 73,
   "metadata": {},
   "outputs": [
    {
     "data": {
      "text/plain": [
       "array([1, 1, 1, ..., 1, 1, 1])"
      ]
     },
     "execution_count": 73,
     "metadata": {},
     "output_type": "execute_result"
    }
   ],
   "source": [
    "# pega o valor de corte e transforma em 1 se a porcentagem for maior ou 0 se for menor ou igual\n",
    "# Calculate and display the error metrics\n",
    "\n",
    "valor_corte = media\n",
    "resultPredict = (predictVisualizacao>valor_corte).astype(int)\n",
    "resultPredict"
   ]
  },
  {
   "cell_type": "code",
   "execution_count": 74,
   "metadata": {},
   "outputs": [
    {
     "name": "stdout",
     "output_type": "stream",
     "text": [
      "[1 1 1 ... 1 1 1]\n",
      "(195000,)\n"
     ]
    }
   ],
   "source": [
    "# Salva em uma imagem em preto e branco\n",
    "\n",
    "from PIL import Image as im\n",
    "print(resultPredict)\n",
    "print(resultPredict.shape)\n",
    "arrayOfnumeros = np.array(resultPredict)\n",
    "# (360, 500) - lagoa v1\n",
    "# (200, 150) - lagoa v2\n",
    "# (300, 650) - barra\n",
    "arrayOfnumeros = np.reshape(arrayOfnumeros, (300, 650))\n",
    "data = im.fromarray((arrayOfnumeros*255).astype(np.uint8))\n",
    "data.save('images/output/rn/barra/b234/result_rn_b234_0_95909_inv.png')\n",
    "\n",
    "# plt.matshow(resultPredict);\n",
    "# plt.colorbar()\n",
    "# plt.savefig('images/output/rn/result_rn_ball_50_zmth.png')"
   ]
  },
  {
   "cell_type": "code",
   "execution_count": null,
   "metadata": {},
   "outputs": [],
   "source": []
  }
 ],
 "metadata": {
  "kernelspec": {
   "display_name": "Python 3.8.10 ('venv': venv)",
   "language": "python",
   "name": "python3"
  },
  "language_info": {
   "codemirror_mode": {
    "name": "ipython",
    "version": 3
   },
   "file_extension": ".py",
   "mimetype": "text/x-python",
   "name": "python",
   "nbconvert_exporter": "python",
   "pygments_lexer": "ipython3",
   "version": "3.8.10"
  },
  "orig_nbformat": 4,
  "vscode": {
   "interpreter": {
    "hash": "7a6c7cdbf41dc7d303c995421279d744b386987621c309ce29c3de885d0328e3"
   }
  }
 },
 "nbformat": 4,
 "nbformat_minor": 2
}
