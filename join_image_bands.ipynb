{
 "cells": [
  {
   "cell_type": "code",
   "execution_count": 2,
   "metadata": {},
   "outputs": [],
   "source": [
    "# Lê arquivos diferentes TIF, onde cada arquivo é uma banda, e salva em um único arquivo TIF"
   ]
  },
  {
   "cell_type": "code",
   "execution_count": 1,
   "metadata": {},
   "outputs": [],
   "source": [
    "import numpy as np\n",
    "from glob import glob\n",
    "from pyrsgis import raster\n",
    "import rasterio as rast"
   ]
  },
  {
   "cell_type": "code",
   "execution_count": 4,
   "metadata": {},
   "outputs": [
    {
     "data": {
      "text/plain": [
       "['images/lagoa_freitas/land_5/2011/lagoa_freitas_v1_B1.tif',\n",
       " 'images/lagoa_freitas/land_5/2011/lagoa_freitas_v1_B2.tif',\n",
       " 'images/lagoa_freitas/land_5/2011/lagoa_freitas_v1_B3.tif',\n",
       " 'images/lagoa_freitas/land_5/2011/lagoa_freitas_v1_B4.tif',\n",
       " 'images/lagoa_freitas/land_5/2011/lagoa_freitas_v1_B5.tif',\n",
       " 'images/lagoa_freitas/land_5/2011/lagoa_freitas_v1_B6.tif']"
      ]
     },
     "execution_count": 4,
     "metadata": {},
     "output_type": "execute_result"
    }
   ],
   "source": [
    "# Cria as strings com os paths\n",
    "#path = \"images/lagoa_freitas/2015/lagoa_freitas_v2_B[1-6].TIF\")\n",
    "path = \"images/lagoa_freitas/land_5/2011/lagoa_freitas_v1_B[1-6].tif\"\n",
    "imagesPath = glob(path)\n",
    "imagesPath.sort()\n",
    "imagesPath"
   ]
  },
  {
   "cell_type": "code",
   "execution_count": 5,
   "metadata": {},
   "outputs": [
    {
     "name": "stdout",
     "output_type": "stream",
     "text": [
      "(360, 500)\n",
      "(360, 500)\n",
      "(360, 500)\n",
      "(360, 500)\n",
      "(360, 500)\n",
      "(360, 500)\n"
     ]
    }
   ],
   "source": [
    "# Lê cada arquivo e salva em uma lista\n",
    "l = []\n",
    "for i in imagesPath:\n",
    "  l.append(raster.read(i))\n",
    "\n",
    "for i in l:\n",
    "  print(i[1].shape)"
   ]
  },
  {
   "cell_type": "code",
   "execution_count": 6,
   "metadata": {},
   "outputs": [
    {
     "data": {
      "text/plain": [
       "(6, 360, 500)"
      ]
     },
     "execution_count": 6,
     "metadata": {},
     "output_type": "execute_result"
    }
   ],
   "source": [
    "# combina todas as listas em uma única lista\n",
    "\n",
    "bandsList = []\n",
    "for i in l:\n",
    "    bandsList.append(i[1])\n",
    "imagesCombinedAray = np.array(bandsList)\n",
    "imagesCombinedAray.shape"
   ]
  },
  {
   "cell_type": "code",
   "execution_count": 7,
   "metadata": {},
   "outputs": [],
   "source": [
    "# Coloca as informações das bandas em um único arquivo TIF\n",
    "\n",
    "with rast.open(imagesPath[0]) as src0:\n",
    "  meta = src0.meta\n",
    "\n",
    "meta.update(count = len(imagesPath))\n",
    "\n",
    "# tifOutput = \"images/lagoa_freitas/2015/lagoa_freitas_v2_multiband_6.TIF\"\n",
    "tifOutput = \"images/lagoa_freitas/land_5/2011/lagoa_freitas_v1_multiband_6.tif\"\n",
    "# raster.export(lbands, lds, tifOutput, dtype='uint16', bands=6)\n",
    "with rast.open(tifOutput, 'w', **meta) as dst:\n",
    "  for id, layer in enumerate(imagesPath, start=1):\n",
    "    with rast.open(layer) as src1:\n",
    "      dst.write_band(id, src1.read(1))"
   ]
  },
  {
   "cell_type": "code",
   "execution_count": null,
   "metadata": {},
   "outputs": [],
   "source": []
  }
 ],
 "metadata": {
  "interpreter": {
   "hash": "7a6c7cdbf41dc7d303c995421279d744b386987621c309ce29c3de885d0328e3"
  },
  "kernelspec": {
   "display_name": "Python 3.8.10 ('venv': venv)",
   "language": "python",
   "name": "python3"
  },
  "language_info": {
   "codemirror_mode": {
    "name": "ipython",
    "version": 3
   },
   "file_extension": ".py",
   "mimetype": "text/x-python",
   "name": "python",
   "nbconvert_exporter": "python",
   "pygments_lexer": "ipython3",
   "version": "3.8.10"
  },
  "orig_nbformat": 4
 },
 "nbformat": 4,
 "nbformat_minor": 2
}
