{
 "cells": [
  {
   "cell_type": "code",
   "execution_count": 1,
   "metadata": {},
   "outputs": [],
   "source": [
    "import os\n",
    "os.chdir('/mnt/mint_files/TCC/main_code/')"
   ]
  },
  {
   "cell_type": "code",
   "execution_count": 2,
   "metadata": {},
   "outputs": [
    {
     "name": "stderr",
     "output_type": "stream",
     "text": [
      "2023-05-25 03:09:34.185208: W tensorflow/stream_executor/platform/default/dso_loader.cc:64] Could not load dynamic library 'libcudart.so.11.0'; dlerror: libcudart.so.11.0: cannot open shared object file: No such file or directory\n",
      "2023-05-25 03:09:34.185227: I tensorflow/stream_executor/cuda/cudart_stub.cc:29] Ignore above cudart dlerror if you do not have a GPU set up on your machine.\n"
     ]
    }
   ],
   "source": [
    "import numpy as np\n",
    "from tensorflow import keras\n",
    "from glob import glob\n",
    "import rasterio as rio\n",
    "from pyrsgis import raster\n",
    "from pyrsgis.convert import changeDimension\n",
    "from pyrsgis.convert import array_to_table\n",
    "import matplotlib.pyplot as plt\n",
    "from sklearn.preprocessing import StandardScaler\n",
    "from PIL import Image as im"
   ]
  },
  {
   "cell_type": "code",
   "execution_count": 5,
   "metadata": {},
   "outputs": [
    {
     "data": {
      "text/plain": [
       "[array([[ 9821, 10193, 10069, ...,  8995,  8987,  8984],\n",
       "        [ 9915, 10042,  9962, ...,  8978,  8986,  8983],\n",
       "        [10047, 10239,  9720, ...,  8982,  8988,  8979],\n",
       "        ...,\n",
       "        [ 9189,  9168,  9145, ..., 10481, 10648, 10764],\n",
       "        [ 9194,  9146,  9127, ..., 10366, 10434, 10439],\n",
       "        [ 9171,  9139,  9127, ..., 10280, 10302, 10413]], dtype=uint16),\n",
       " array([[9197, 9708, 9529, ..., 8075, 8080, 8089],\n",
       "        [9319, 9477, 9370, ..., 8076, 8075, 8091],\n",
       "        [9543, 9735, 9110, ..., 8080, 8090, 8087],\n",
       "        ...,\n",
       "        [8471, 8436, 8396, ..., 9511, 9600, 9685],\n",
       "        [8439, 8394, 8375, ..., 9359, 9438, 9485],\n",
       "        [8385, 8367, 8345, ..., 9291, 9366, 9451]], dtype=uint16),\n",
       " array([[8513, 9119, 8959, ..., 6904, 6915, 6917],\n",
       "        [8710, 8903, 8699, ..., 6899, 6933, 6917],\n",
       "        [8995, 9125, 8532, ..., 6898, 6926, 6914],\n",
       "        ...,\n",
       "        [7343, 7261, 7215, ..., 8447, 8644, 8928],\n",
       "        [7283, 7224, 7168, ..., 8377, 8523, 8707],\n",
       "        [7204, 7176, 7162, ..., 8310, 8366, 8399]], dtype=uint16),\n",
       " array([[8286, 9044, 8881, ..., 6277, 6290, 6296],\n",
       "        [8523, 8734, 8540, ..., 6266, 6280, 6278],\n",
       "        [8894, 9038, 8308, ..., 6262, 6286, 6293],\n",
       "        ...,\n",
       "        [6301, 6291, 6277, ..., 7684, 7906, 8181],\n",
       "        [6293, 6267, 6275, ..., 7669, 7783, 7881],\n",
       "        [6253, 6242, 6256, ..., 7512, 7602, 7592]], dtype=uint16),\n",
       " array([[10679, 10989, 11239, ...,  5672,  5673,  5685],\n",
       "        [10123,  9861, 10215, ...,  5692,  5686,  5685],\n",
       "        [10681, 11144, 10898, ...,  5675,  5692,  5683],\n",
       "        ...,\n",
       "        [ 5662,  5685,  5661, ...,  7182,  7394,  7596],\n",
       "        [ 5664,  5656,  5649, ...,  7165,  7214,  7276],\n",
       "        [ 5646,  5648,  5647, ...,  6964,  7057,  7094]], dtype=uint16),\n",
       " array([[10221, 11186, 11687, ...,  5242,  5232,  5249],\n",
       "        [ 9649, 10372, 10360, ...,  5228,  5232,  5232],\n",
       "        [10382, 11916, 11112, ...,  5227,  5232,  5223],\n",
       "        ...,\n",
       "        [ 5231,  5223,  5219, ...,  6412,  6496,  6542],\n",
       "        [ 5229,  5216,  5211, ...,  6297,  6443,  6610],\n",
       "        [ 5209,  5211,  5210, ...,  6242,  6364,  6503]], dtype=uint16)]"
      ]
     },
     "execution_count": 5,
     "metadata": {},
     "output_type": "execute_result"
    }
   ],
   "source": [
    "recreioFile = 'images/lagoa_freitas/2015/lagoa_freitas_v1_B[1-6].TIF'\n",
    "#recreioFile = 'images/lagoa_freitas/land_5/2011/lagoa_freitas_v1_B[1-6].tif' \n",
    "recreio_bands = glob(recreioFile)\n",
    "recreio_bands.sort()\n",
    "\n",
    "#recreioFile = [\n",
    "#    'images/barra/2015/barra_B4.TIF',\n",
    "#    'images/barra/2015/barra_B3.TIF',\n",
    "#    'images/barra/2015/barra_B2.TIF',\n",
    "#]\n",
    "#recreio_bands = recreioFile\n",
    "\n",
    "l = []\n",
    "for i in recreio_bands:\n",
    "    l.append(raster.read(i, bands=1)[1])\n",
    "\n",
    "l"
   ]
  },
  {
   "cell_type": "code",
   "execution_count": 15,
   "metadata": {},
   "outputs": [
    {
     "name": "stdout",
     "output_type": "stream",
     "text": [
      "9821\n",
      "9197\n",
      "8513\n",
      "8286\n",
      "10679\n",
      "10221\n"
     ]
    }
   ],
   "source": [
    "for i in l:\n",
    "    print(i[0][0])"
   ]
  },
  {
   "cell_type": "code",
   "execution_count": null,
   "metadata": {},
   "outputs": [],
   "source": []
  }
 ],
 "metadata": {
  "kernelspec": {
   "display_name": "venv",
   "language": "python",
   "name": "python3"
  },
  "language_info": {
   "codemirror_mode": {
    "name": "ipython",
    "version": 3
   },
   "file_extension": ".py",
   "mimetype": "text/x-python",
   "name": "python",
   "nbconvert_exporter": "python",
   "pygments_lexer": "ipython3",
   "version": "3.8.10"
  },
  "orig_nbformat": 4
 },
 "nbformat": 4,
 "nbformat_minor": 2
}
