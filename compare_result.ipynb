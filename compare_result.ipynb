{
 "cells": [
  {
   "cell_type": "code",
   "execution_count": 1,
   "metadata": {},
   "outputs": [],
   "source": [
    "import os\n",
    "os.chdir('/mnt/mint_files/TCC/main_code/')"
   ]
  },
  {
   "cell_type": "code",
   "execution_count": 2,
   "metadata": {},
   "outputs": [],
   "source": [
    "from PIL import Image as im"
   ]
  },
  {
   "cell_type": "code",
   "execution_count": 93,
   "metadata": {},
   "outputs": [],
   "source": [
    "path = 'images/output_2_land8/'\n",
    "ep1 = '5'\n",
    "ep2 = '25'\n",
    "img1 = 'b_234_0_3'\n",
    "img2 = 'b_234_0_3'\n",
    "\n",
    "img_ep5 = im.open(path + ep1 + '_epochs/' + img1 + '.png')\n",
    "img_ep25 = im.open(path + ep2 + '_epochs/' + img2 + '.png')"
   ]
  },
  {
   "cell_type": "code",
   "execution_count": 94,
   "metadata": {},
   "outputs": [
    {
     "name": "stdout",
     "output_type": "stream",
     "text": [
      "500\n",
      "360\n"
     ]
    }
   ],
   "source": [
    "w, h = img_ep5.size\n",
    "wt, ht = img_ep25.size\n",
    "\n",
    "if w != wt or h != ht:\n",
    "    print('imagens de tamanho difertentes')\n",
    "\n",
    "print(w)\n",
    "print(h)"
   ]
  },
  {
   "cell_type": "code",
   "execution_count": 95,
   "metadata": {},
   "outputs": [],
   "source": [
    "resultImage = im.new(mode='RGB', size=(w,h))\n",
    "resultPixels = resultImage.load()"
   ]
  },
  {
   "cell_type": "code",
   "execution_count": 96,
   "metadata": {},
   "outputs": [],
   "source": [
    "count = 0\n",
    "countb = 0\n",
    "countr = 0\n",
    "total = w*h\n",
    "for i in range(w):\n",
    "    for j in range(h):\n",
    "        pixel_ep5 = img_ep5.getpixel((i,j))\n",
    "        pixel_ep25 = img_ep25.getpixel((i,j))\n",
    "        if pixel_ep5 == pixel_ep25:\n",
    "            count = count + 1\n",
    "            resultPixels[i,j] = (int(pixel_ep5/2.0), int(pixel_ep5/2.0), int(pixel_ep5/2.0))\n",
    "        elif pixel_ep5 == 255 and pixel_ep25 == 0:\n",
    "            countb = countb + 1\n",
    "            resultPixels[i,j] = (0, 0, 255) # blue\n",
    "        elif pixel_ep5 == 0 and pixel_ep25 == 255:\n",
    "            countr = countr + 1\n",
    "            resultPixels[i,j] = (255, 0, 0) # red\n"
   ]
  },
  {
   "cell_type": "code",
   "execution_count": 97,
   "metadata": {},
   "outputs": [],
   "source": [
    "resultImage.save(f'images/out_result/{ep1}_{img1}T{ep2}_{img2}.png')"
   ]
  },
  {
   "cell_type": "code",
   "execution_count": 98,
   "metadata": {},
   "outputs": [],
   "source": [
    "with open(f'images/out_result/numeros.txt', 'a') as fout:\n",
    "# fout.write(u'#'+'\\t'.join(str(e) for e in cMatrix.shape)+'\\n')\n",
    "# cMatrix.tofile(fout)\n",
    "    fout.write(ep1 + '_' + img1 + 'T' + ep2 + '_' + img2 + ':\\n')\n",
    "    fout.write('total: %d; pixel iguais: %d count blue: %d count red: %d\\n' % (total, count, countb, countr))\n",
    "    fout.write('porcentagem: pixel iguais: %.3f blue: %.3f red: %.3f' % (count/total, countb/total, countr/total))\n",
    "    fout.write('\\n')"
   ]
  },
  {
   "cell_type": "code",
   "execution_count": null,
   "metadata": {},
   "outputs": [],
   "source": []
  }
 ],
 "metadata": {
  "kernelspec": {
   "display_name": "venv",
   "language": "python",
   "name": "python3"
  },
  "language_info": {
   "codemirror_mode": {
    "name": "ipython",
    "version": 3
   },
   "file_extension": ".py",
   "mimetype": "text/x-python",
   "name": "python",
   "nbconvert_exporter": "python",
   "pygments_lexer": "ipython3",
   "version": "3.8.10"
  },
  "orig_nbformat": 4
 },
 "nbformat": 4,
 "nbformat_minor": 2
}
