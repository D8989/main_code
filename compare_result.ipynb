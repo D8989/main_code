{
 "cells": [
  {
   "cell_type": "code",
   "execution_count": 1,
   "metadata": {},
   "outputs": [],
   "source": [
    "import os\n",
    "os.chdir('/mnt/mint_files/TCC/main_code/')"
   ]
  },
  {
   "cell_type": "code",
   "execution_count": 2,
   "metadata": {},
   "outputs": [],
   "source": [
    "from PIL import Image as im"
   ]
  },
  {
   "cell_type": "code",
   "execution_count": 35,
   "metadata": {},
   "outputs": [],
   "source": [
    "img_ep5 = im.open('images/output_2_land8/5_epochs/b_234_0_3.png')\n",
    "img_ep25 = im.open('images/output_2_land8/25_epochs/b_234_0_3.png')"
   ]
  },
  {
   "cell_type": "code",
   "execution_count": 36,
   "metadata": {},
   "outputs": [
    {
     "name": "stdout",
     "output_type": "stream",
     "text": [
      "500\n",
      "360\n"
     ]
    }
   ],
   "source": [
    "w, h = img_ep5.size\n",
    "wt, ht = img_ep25.size\n",
    "\n",
    "if w != wt or h != ht:\n",
    "    print('imagens de tamanho difertentes')\n",
    "\n",
    "print(w)\n",
    "print(h)"
   ]
  },
  {
   "cell_type": "code",
   "execution_count": 48,
   "metadata": {},
   "outputs": [],
   "source": [
    "resultImage = im.new(mode='RGB', size=(w,h))\n",
    "resultPixels = resultImage.load()"
   ]
  },
  {
   "cell_type": "code",
   "execution_count": 51,
   "metadata": {},
   "outputs": [],
   "source": [
    "for i in range(w):\n",
    "    for j in range(h):\n",
    "        pixel_ep5 = img_ep5.getpixel((i,j))\n",
    "        pixel_ep25 = img_ep25.getpixel((i,j))\n",
    "        if (pixel_ep5 == pixel_ep25):\n",
    "            resultPixels[i,j] = (int(pixel_ep5/2.0), int(pixel_ep5/2.0), int(pixel_ep5/2.0))\n",
    "        else:\n",
    "            resultPixels[i,j] = (pixel_ep5, 0, 0)\n"
   ]
  },
  {
   "cell_type": "code",
   "execution_count": 52,
   "metadata": {},
   "outputs": [],
   "source": [
    "resultImage.save('teste.png')"
   ]
  },
  {
   "cell_type": "code",
   "execution_count": null,
   "metadata": {},
   "outputs": [],
   "source": []
  }
 ],
 "metadata": {
  "kernelspec": {
   "display_name": "venv",
   "language": "python",
   "name": "python3"
  },
  "language_info": {
   "codemirror_mode": {
    "name": "ipython",
    "version": 3
   },
   "file_extension": ".py",
   "mimetype": "text/x-python",
   "name": "python",
   "nbconvert_exporter": "python",
   "pygments_lexer": "ipython3",
   "version": "3.8.10"
  },
  "orig_nbformat": 4
 },
 "nbformat": 4,
 "nbformat_minor": 2
}
