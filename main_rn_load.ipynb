{
 "cells": [
  {
   "cell_type": "code",
   "execution_count": 1,
   "metadata": {},
   "outputs": [],
   "source": [
    "# Pega um RN já treinada e classifica a imagem "
   ]
  },
  {
   "cell_type": "code",
   "execution_count": 1,
   "metadata": {},
   "outputs": [],
   "source": [
    "import os\n",
    "os.chdir('/mnt/mint_files/TCC/main_code/')"
   ]
  },
  {
   "cell_type": "code",
   "execution_count": 2,
   "metadata": {},
   "outputs": [
    {
     "name": "stderr",
     "output_type": "stream",
     "text": [
      "2023-05-22 02:04:59.844102: W tensorflow/stream_executor/platform/default/dso_loader.cc:64] Could not load dynamic library 'libcudart.so.11.0'; dlerror: libcudart.so.11.0: cannot open shared object file: No such file or directory\n",
      "2023-05-22 02:04:59.844120: I tensorflow/stream_executor/cuda/cudart_stub.cc:29] Ignore above cudart dlerror if you do not have a GPU set up on your machine.\n"
     ]
    }
   ],
   "source": [
    "import numpy as np\n",
    "from tensorflow import keras\n",
    "from glob import glob\n",
    "import rasterio as rio\n",
    "from pyrsgis import raster\n",
    "import matplotlib.pyplot as plt\n",
    "from sklearn.preprocessing import StandardScaler\n",
    "from PIL import Image as im"
   ]
  },
  {
   "cell_type": "code",
   "execution_count": 6,
   "metadata": {},
   "outputs": [
    {
     "name": "stdout",
     "output_type": "stream",
     "text": [
      "Imagem shape D(Bands: 6, Height: 360, Width: 500)\n"
     ]
    }
   ],
   "source": [
    "# Lê as imagens do teste\n",
    "\n",
    "recreioFile = 'images/lagoa_freitas/2015/lagoa_freitas_v1_B[1-6].TIF'\n",
    "#recreioFile = 'images/lagoa_freitas/land_5/2011/lagoa_freitas_v1_B[1-6].tif' \n",
    "recreio_bands = glob(recreioFile)\n",
    "recreio_bands.sort()\n",
    "\n",
    "#recreioFile = [\n",
    "#    'images/barra/2015/barra_B4.TIF',\n",
    "#    'images/barra/2015/barra_B3.TIF',\n",
    "#    'images/barra/2015/barra_B2.TIF',\n",
    "#]\n",
    "#recreio_bands = recreioFile\n",
    "\n",
    "l = []\n",
    "for i in recreio_bands:\n",
    "    with rio.open(i, 'r') as f:\n",
    "        l.append(f.read(1))\n",
    "\n",
    "# Data\n",
    "arr_st = np.stack(l)\n",
    "\n",
    "txt = 'Imagem shape D(Bands: {0}, Height: {1}, Width: {2})'.format(arr_st.shape[0], arr_st.shape[1], arr_st.shape[2])\n",
    "print(txt)"
   ]
  },
  {
   "cell_type": "code",
   "execution_count": 4,
   "metadata": {},
   "outputs": [
    {
     "data": {
      "text/plain": [
       "array([[ 0.87993796,  0.93574309,  0.92082308,  1.00759047,  0.33292613,\n",
       "         0.93900401],\n",
       "       [ 1.50115632,  1.6334487 ,  1.54248644,  1.61688701,  0.41911844,\n",
       "         1.31424864],\n",
       "       [ 1.29408354,  1.38904693,  1.3783509 ,  1.48586414,  0.48862836,\n",
       "         1.50906476],\n",
       "       ...,\n",
       "       [ 1.64644126,  1.06408816,  0.71257612,  0.38543279, -0.69999131,\n",
       "        -0.60824821],\n",
       "       [ 1.68317999,  1.16649113,  0.77002356,  0.45777671, -0.67413362,\n",
       "        -0.56080795],\n",
       "       [ 1.86854353,  1.28254784,  0.80387651,  0.4497385 , -0.66384615,\n",
       "        -0.50675717]])"
      ]
     },
     "execution_count": 4,
     "metadata": {},
     "output_type": "execute_result"
    }
   ],
   "source": [
    "# reshape as bandas da imagem de teste\n",
    "x = np.moveaxis(arr_st, 0, -1)\n",
    "x.reshape(-1, arr_st.shape[0]).shape, arr_st.shape[1] * arr_st.shape[2]\n",
    "X_data = x.reshape(-1, arr_st.shape[0])\n",
    "scaler = StandardScaler().fit(X_data)\n",
    "X_scaled = scaler.transform(X_data)\n",
    "\n",
    "X_scaled\n"
   ]
  },
  {
   "cell_type": "code",
   "execution_count": 5,
   "metadata": {},
   "outputs": [
    {
     "data": {
      "text/plain": [
       "array([0.87993796, 0.93574309, 0.92082308, 1.00759047, 0.33292613,\n",
       "       0.93900401])"
      ]
     },
     "execution_count": 5,
     "metadata": {},
     "output_type": "execute_result"
    }
   ],
   "source": [
    "X_scaled[0]"
   ]
  },
  {
   "cell_type": "code",
   "execution_count": 5,
   "metadata": {},
   "outputs": [
    {
     "name": "stdout",
     "output_type": "stream",
     "text": [
      "(180000, 1, 6)\n"
     ]
    }
   ],
   "source": [
    "# Normaliza a imagem de teste\n",
    "# X_scaled = X_scaled / 65535.0 # 16 bits\n",
    "# ATENÇÃO: para a imagem landsat-5, não precisa normalizar\n",
    "#X_scaled = X_scaled / 255.0 # 8 bits\n",
    "\n",
    "# reshape\n",
    "X_scaled = X_scaled.reshape((X_scaled.shape[0], 1, X_scaled.shape[1]))\n",
    "print(X_scaled.shape)"
   ]
  },
  {
   "cell_type": "code",
   "execution_count": 6,
   "metadata": {},
   "outputs": [
    {
     "name": "stderr",
     "output_type": "stream",
     "text": [
      "2023-04-25 02:57:24.994774: I tensorflow/stream_executor/cuda/cuda_gpu_executor.cc:936] successful NUMA node read from SysFS had negative value (-1), but there must be at least one NUMA node, so returning NUMA node zero\n",
      "2023-04-25 02:57:24.994957: W tensorflow/stream_executor/platform/default/dso_loader.cc:64] Could not load dynamic library 'libcudart.so.11.0'; dlerror: libcudart.so.11.0: cannot open shared object file: No such file or directory\n",
      "2023-04-25 02:57:24.995000: W tensorflow/stream_executor/platform/default/dso_loader.cc:64] Could not load dynamic library 'libcublas.so.11'; dlerror: libcublas.so.11: cannot open shared object file: No such file or directory\n",
      "2023-04-25 02:57:24.995041: W tensorflow/stream_executor/platform/default/dso_loader.cc:64] Could not load dynamic library 'libcublasLt.so.11'; dlerror: libcublasLt.so.11: cannot open shared object file: No such file or directory\n",
      "2023-04-25 02:57:24.995081: W tensorflow/stream_executor/platform/default/dso_loader.cc:64] Could not load dynamic library 'libcufft.so.10'; dlerror: libcufft.so.10: cannot open shared object file: No such file or directory\n",
      "2023-04-25 02:57:24.995121: W tensorflow/stream_executor/platform/default/dso_loader.cc:64] Could not load dynamic library 'libcurand.so.10'; dlerror: libcurand.so.10: cannot open shared object file: No such file or directory\n",
      "2023-04-25 02:57:24.995161: W tensorflow/stream_executor/platform/default/dso_loader.cc:64] Could not load dynamic library 'libcusolver.so.11'; dlerror: libcusolver.so.11: cannot open shared object file: No such file or directory\n",
      "2023-04-25 02:57:24.995199: W tensorflow/stream_executor/platform/default/dso_loader.cc:64] Could not load dynamic library 'libcusparse.so.11'; dlerror: libcusparse.so.11: cannot open shared object file: No such file or directory\n",
      "2023-04-25 02:57:24.995306: W tensorflow/core/common_runtime/gpu/gpu_device.cc:1850] Cannot dlopen some GPU libraries. Please make sure the missing libraries mentioned above are installed properly if you would like to use GPU. Follow the guide at https://www.tensorflow.org/install/gpu for how to download and setup the required libraries for your platform.\n",
      "Skipping registering GPU devices...\n",
      "2023-04-25 02:57:24.995521: I tensorflow/core/platform/cpu_feature_guard.cc:151] This TensorFlow binary is optimized with oneAPI Deep Neural Network Library (oneDNN) to use the following CPU instructions in performance-critical operations:  AVX2 FMA\n",
      "To enable them in other operations, rebuild TensorFlow with the appropriate compiler flags.\n"
     ]
    }
   ],
   "source": [
    "# Define the parameters of the model\n",
    "model5 = keras.models.load_model('modelos/my_model_allb_5.h5')\n",
    "model10 = keras.models.load_model('modelos/my_model_allb_10.h5')\n",
    "model20 = keras.models.load_model('modelos/my_model_allb_20.h5')\n",
    "model25 = keras.models.load_model('modelos/my_model_allb_25.h5')\n",
    "model100 = keras.models.load_model('modelos/my_model_allb_100.h5')\n"
   ]
  },
  {
   "cell_type": "code",
   "execution_count": 7,
   "metadata": {},
   "outputs": [],
   "source": [
    "predict5 = model5.predict(X_scaled)\n",
    "predict10 = model10.predict(X_scaled)\n",
    "predict20 = model20.predict(X_scaled)\n",
    "predict25 = model25.predict(X_scaled)\n",
    "predict100 = model100.predict(X_scaled)"
   ]
  },
  {
   "cell_type": "code",
   "execution_count": 8,
   "metadata": {},
   "outputs": [],
   "source": [
    "visualiza5 = predict5[:,1]\n",
    "visualiza10 = predict10[:,1]\n",
    "visualiza20 = predict20[:,1]\n",
    "visualiza25 = predict25[:,1]\n",
    "visualiza100 = predict100[:,1]"
   ]
  },
  {
   "cell_type": "code",
   "execution_count": 9,
   "metadata": {},
   "outputs": [
    {
     "data": {
      "text/plain": [
       "array([7.0951559e-02, 4.5889628e-06, 1.7143287e-04, ..., 2.7436770e-25,\n",
       "       1.2831620e-25, 2.7858312e-25], dtype=float32)"
      ]
     },
     "execution_count": 9,
     "metadata": {},
     "output_type": "execute_result"
    }
   ],
   "source": [
    "visualiza25"
   ]
  },
  {
   "cell_type": "code",
   "execution_count": 21,
   "metadata": {},
   "outputs": [],
   "source": [
    "valor_corte = 0.30\n",
    "arr_ep = ['5', '10', '20', '25']\n",
    "arr_vis = [visualiza5, visualiza10, visualiza20, visualiza25]\n",
    "\n",
    "for i in range(4):\n",
    "    resultPredict = (arr_vis[i]>valor_corte).astype(int)\n",
    "    arrayOfnumeros = np.array(resultPredict)\n",
    "    # (360, 500) - lagoa v1\n",
    "    # (200, 150) - lagoa v2\n",
    "    # (300, 650) - barra\n",
    "    arrayOfnumeros = np.reshape(arrayOfnumeros, (360, 500))\n",
    "    data = im.fromarray((arrayOfnumeros*255).astype(np.uint8))\n",
    "    data.save(f'images/output/rn_epochs/{arr_ep[i]}_epochs/allb_{str(valor_corte).replace(\".\", \"_\")}.png')"
   ]
  },
  {
   "cell_type": "code",
   "execution_count": 11,
   "metadata": {},
   "outputs": [],
   "source": [
    "valor_cortes = [0.10, 0.20, 0.30, 0.40, 0.50, 0.60, 0.70, 0.80, 0.90, 0.95, 0.99, 0.999]\n",
    "# valor_cortes = [0.99, 0.995, 0.999, 0.9995, 0.9999]\n",
    "total_cortes = 12\n",
    "visualiza = [\n",
    "    [\"5\", visualiza5],\n",
    "    [\"10\", visualiza10],\n",
    "    [\"20\", visualiza20],\n",
    "    [\"25\", visualiza25],\n",
    "    [\"100\", visualiza100]\n",
    "]\n",
    "for v in visualiza:\n",
    "    for j in range(total_cortes):\n",
    "        resultPredict = (v[1]>valor_cortes[j]).astype(int)\n",
    "        arrayOfnumeros = np.array(resultPredict)\n",
    "        # (360, 500) - lagoa v1\n",
    "        # (200, 150) - lagoa v2\n",
    "        # (300, 650) - barra\n",
    "        arrayOfnumeros = np.reshape(arrayOfnumeros, (360, 500))\n",
    "        data = im.fromarray((arrayOfnumeros*255).astype(np.uint8))\n",
    "        #data.save(f'images/output/rn_epochs/land_5/{v[0]}_epochs/b_all_{str(valor_cortes[j]).replace(\".\", \"_\")}_t2.png')\n",
    "        data.save(f'images/output/rn_epochs/{v[0]}_epochs/b_all_{str(valor_cortes[j]).replace(\".\", \"_\")}_sn.png')"
   ]
  },
  {
   "cell_type": "code",
   "execution_count": null,
   "metadata": {},
   "outputs": [],
   "source": []
  }
 ],
 "metadata": {
  "kernelspec": {
   "display_name": "venv",
   "language": "python",
   "name": "python3"
  },
  "language_info": {
   "codemirror_mode": {
    "name": "ipython",
    "version": 3
   },
   "file_extension": ".py",
   "mimetype": "text/x-python",
   "name": "python",
   "nbconvert_exporter": "python",
   "pygments_lexer": "ipython3",
   "version": "3.8.10"
  },
  "orig_nbformat": 4,
  "vscode": {
   "interpreter": {
    "hash": "7a6c7cdbf41dc7d303c995421279d744b386987621c309ce29c3de885d0328e3"
   }
  }
 },
 "nbformat": 4,
 "nbformat_minor": 2
}
