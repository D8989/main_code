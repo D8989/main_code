{
 "cells": [
  {
   "cell_type": "code",
   "execution_count": 1,
   "metadata": {},
   "outputs": [],
   "source": [
    "import os\n",
    "os.chdir('/mnt/mint_files/TCC/main_code/')"
   ]
  },
  {
   "cell_type": "code",
   "execution_count": 2,
   "metadata": {},
   "outputs": [
    {
     "name": "stderr",
     "output_type": "stream",
     "text": [
      "2023-05-27 02:43:29.033572: W tensorflow/stream_executor/platform/default/dso_loader.cc:64] Could not load dynamic library 'libcudart.so.11.0'; dlerror: libcudart.so.11.0: cannot open shared object file: No such file or directory\n",
      "2023-05-27 02:43:29.033596: I tensorflow/stream_executor/cuda/cudart_stub.cc:29] Ignore above cudart dlerror if you do not have a GPU set up on your machine.\n"
     ]
    }
   ],
   "source": [
    "import numpy as np\n",
    "from tensorflow import keras\n",
    "from pyrsgis import raster\n",
    "from pyrsgis.convert import changeDimension\n",
    "from sklearn.model_selection import train_test_split\n",
    "from sklearn.metrics import confusion_matrix, precision_score, recall_score\n",
    "from glob import glob\n",
    "import rasterio as rio\n",
    "import matplotlib.pyplot as plt\n",
    "from sklearn.preprocessing import StandardScaler"
   ]
  },
  {
   "cell_type": "code",
   "execution_count": 16,
   "metadata": {},
   "outputs": [
    {
     "name": "stdout",
     "output_type": "stream",
     "text": [
      "Bangalore Multispectral image shape:  (6, 2054, 2044)\n",
      "Bangalore Binary built-up image shape:  (2054, 2044)\n",
      "Hyderabad Multispectral image shape:  (6, 1318, 1056)\n"
     ]
    }
   ],
   "source": [
    "# Lê a imagem de treino e o seu gabarito\n",
    "\n",
    "# Assign file names\n",
    "mxBangalore = 'images/bangalore_data/l5_Bangalore2011_raw.tif'\n",
    "builtupBangalore = 'images/bangalore_data/l5_Bangalore2011_builtup.tif'\n",
    "mxHyderabad = 'images/bangalore_data/l5_Hyderabad2011_raw.tif'\n",
    "\n",
    "# Read the rasters as array\n",
    "ds1, featuresBangalore = raster.read(mxBangalore, bands='all')\n",
    "ds2, labelBangalore = raster.read(builtupBangalore, bands=1)\n",
    "ds3, featuresHyderabad = raster.read(mxHyderabad, bands='all')\n",
    "\n",
    "# Print the size of the arrays\n",
    "print(\"Bangalore Multispectral image shape: \", featuresBangalore.shape)\n",
    "print(\"Bangalore Binary built-up image shape: \", labelBangalore.shape)\n",
    "print(\"Hyderabad Multispectral image shape: \", featuresHyderabad.shape)"
   ]
  },
  {
   "cell_type": "code",
   "execution_count": 17,
   "metadata": {},
   "outputs": [
    {
     "name": "stdout",
     "output_type": "stream",
     "text": [
      "The \"changeDimension()\" function has moved to \"array_to_table()\" and will be deprecated in future versions. Please check the pyrsgis documentation at https://pyrsgis.readthedocs.io/en/master/ for more details.\n",
      "The \"changeDimension()\" function has moved to \"array_to_table()\" and will be deprecated in future versions. Please check the pyrsgis documentation at https://pyrsgis.readthedocs.io/en/master/ for more details.\n",
      "The \"changeDimension()\" function has moved to \"array_to_table()\" and will be deprecated in future versions. Please check the pyrsgis documentation at https://pyrsgis.readthedocs.io/en/master/ for more details.\n",
      "Bangalore Multispectral image shape:  (4198376, 6)\n",
      "Bangalore Binary built-up image shape:  (4198376,)\n",
      "Hyderabad Multispectral image shape:  (1391808, 6)\n"
     ]
    }
   ],
   "source": [
    "# Acerta os shape das imagens de treino e de gabarito\n",
    "\n",
    "# Clean the labelled data to replace NoData values by zero\n",
    "labelBangalore = (labelBangalore == 1).astype(int)\n",
    "\n",
    "# Reshape the array to single dimensional array\n",
    "featuresBangalore = changeDimension(featuresBangalore)\n",
    "labelBangalore = changeDimension (labelBangalore)\n",
    "featuresHyderabad = changeDimension(featuresHyderabad)\n",
    "nBands = featuresBangalore.shape[1]\n",
    "\n",
    "print(\"Bangalore Multispectral image shape: \", featuresBangalore.shape)\n",
    "print(\"Bangalore Binary built-up image shape: \", labelBangalore.shape)\n",
    "print(\"Hyderabad Multispectral image shape: \", featuresHyderabad.shape)"
   ]
  },
  {
   "cell_type": "code",
   "execution_count": 18,
   "metadata": {},
   "outputs": [
    {
     "name": "stdout",
     "output_type": "stream",
     "text": [
      "(2519025, 6)\n",
      "(2519025,)\n",
      "(1679351, 6)\n",
      "(1679351,)\n"
     ]
    }
   ],
   "source": [
    "# Split testing and training datasets\n",
    "xTrain, xTest, yTrain, yTest = train_test_split(featuresBangalore, labelBangalore, test_size=0.4, random_state=0)\n",
    "\n",
    "print(xTrain.shape)\n",
    "print(yTrain.shape)\n",
    "\n",
    "print(xTest.shape)\n",
    "print(yTest.shape)"
   ]
  },
  {
   "cell_type": "code",
   "execution_count": 19,
   "metadata": {},
   "outputs": [
    {
     "name": "stdout",
     "output_type": "stream",
     "text": [
      "(2519025, 1, 6) (1679351, 1, 6) (1391808, 1, 6)\n"
     ]
    }
   ],
   "source": [
    "# Normalise the data\n",
    "xTrain = xTrain / 255.0 # bits\n",
    "xTest = xTest / 255.0\n",
    "featuresHyderabad = featuresHyderabad / 255.0\n",
    "\n",
    "# Reshape the data\n",
    "xTrain = xTrain.reshape((xTrain.shape[0], 1, xTrain.shape[1]))\n",
    "xTest = xTest.reshape((xTest.shape[0], 1, xTest.shape[1]))\n",
    "featuresHyderabad = featuresHyderabad.reshape((featuresHyderabad.shape[0], 1, featuresHyderabad.shape[1]))\n",
    "\n",
    "# Print the shape of reshaped data\n",
    "print(xTrain.shape, xTest.shape, featuresHyderabad.shape)"
   ]
  },
  {
   "cell_type": "code",
   "execution_count": 20,
   "metadata": {},
   "outputs": [
    {
     "data": {
      "text/plain": [
       "['ball',\n",
       " array([[[0.15294118, 0.2       , 0.22745098, 0.43529412, 0.58431373,\n",
       "          0.22352941]],\n",
       " \n",
       "        [[0.16078431, 0.19215686, 0.2       , 0.28627451, 0.57254902,\n",
       "          0.18431373]],\n",
       " \n",
       "        [[0.13333333, 0.15294118, 0.24313725, 0.41176471, 0.58039216,\n",
       "          0.18431373]],\n",
       " \n",
       "        ...,\n",
       " \n",
       "        [[0.18039216, 0.19607843, 0.17254902, 0.26666667, 0.56078431,\n",
       "          0.16078431]],\n",
       " \n",
       "        [[0.11764706, 0.12941176, 0.2       , 0.27058824, 0.56078431,\n",
       "          0.12156863]],\n",
       " \n",
       "        [[0.11764706, 0.13333333, 0.20784314, 0.30196078, 0.57647059,\n",
       "          0.13333333]]]),\n",
       " array([[[0.16470588, 0.18823529, 0.2       , 0.30196078, 0.56470588,\n",
       "          0.18039216]],\n",
       " \n",
       "        [[0.13333333, 0.18039216, 0.2       , 0.4627451 , 0.59215686,\n",
       "          0.22745098]],\n",
       " \n",
       "        [[0.1254902 , 0.14509804, 0.25882353, 0.37254902, 0.57647059,\n",
       "          0.16862745]],\n",
       " \n",
       "        ...,\n",
       " \n",
       "        [[0.14901961, 0.19215686, 0.2745098 , 0.53333333, 0.60392157,\n",
       "          0.25882353]],\n",
       " \n",
       "        [[0.1254902 , 0.14117647, 0.22745098, 0.41176471, 0.56470588,\n",
       "          0.18039216]],\n",
       " \n",
       "        [[0.14901961, 0.16078431, 0.18039216, 0.24705882, 0.56078431,\n",
       "          0.15294118]]])]"
      ]
     },
     "execution_count": 20,
     "metadata": {},
     "output_type": "execute_result"
    }
   ],
   "source": [
    "# Escolhe as bandas para serem utilizadas. entre 0 e 5. alterar a quantidade na primeira camada da RN\n",
    "# [1,2,3] -> bands 2,3,4 - RGB\n",
    "# [2,3,4] -> bands 3,4,5 - Infra vermelho\n",
    "# [1,4,5] -> bands 2,5,6 - Agricultura\n",
    "# [0,2,3] -> bands 1,3,4 - Bathymetric\n",
    "#xTrain_b = xTrain[:,:,[1,2,3]]\n",
    "#xTest_b = xTest #xTest[:,:,[1,2,3]]\n",
    "#featuresRecreio_b = featuresRecreio[:,:,[0,2,3]]\n",
    "bandas = [\n",
    "   # [\"345\", np.copy(xTrain[:,:,[2,3,4]]), np.copy(xTest[:,:,[2,3,4]])],\n",
    "   # [\"256\", np.copy(xTrain[:,:,[1,4,5]]), np.copy(xTest[:,:,[1,4,5]])],\n",
    "   # [\"234\", np.copy(xTrain[:,:,[1,2,3]]), np.copy(xTest[:,:,[1,2,3]])],\n",
    "   # [\"134\", np.copy(xTrain[:,:,[0,2,3]]), np.copy(xTest[:,:,[0,2,3]])]\n",
    "   [\"allb\", np.copy(xTrain), np.copy(xTest)]\n",
    "]\n",
    "bandas[0] # 0-> nome, 1-> treino, 2-> teste"
   ]
  },
  {
   "cell_type": "code",
   "execution_count": 21,
   "metadata": {},
   "outputs": [
    {
     "name": "stdout",
     "output_type": "stream",
     "text": [
      "inicio epoca 2, bandas: ball\n",
      "Epoch 1/2\n",
      "78720/78720 [==============================] - 53s 668us/step - loss: 0.1276 - accuracy: 0.9518\n",
      "Epoch 2/2\n",
      "78720/78720 [==============================] - 53s 668us/step - loss: 0.1093 - accuracy: 0.9589\n"
     ]
    }
   ],
   "source": [
    "epocas = [2] #[5,10,20,25]\n",
    "\n",
    "for ep in epocas:\n",
    "    for banda in bandas:\n",
    "        print(f'inicio epoca {ep}, bandas: {banda[0]}')\n",
    "        modelEpoch = keras.Sequential([\n",
    "            keras.layers.Flatten(input_shape=(1, 6)), #input_shape=(1, nBands)\n",
    "            keras.layers.Dense(14, activation='relu'),\n",
    "            keras.layers.Dense(2, activation='softmax')]) #softmax\n",
    "\n",
    "        # Define the accuracy metrics and parameters\n",
    "        modelEpoch.compile(optimizer=\"adam\", loss=\"sparse_categorical_crossentropy\", metrics=[\"accuracy\"])\n",
    "\n",
    "        # Run the model\n",
    "        modelEpoch.fit(banda[1], yTrain, epochs=ep) # testar auamentando o número de epochs\n",
    "        modelEpoch.save(f'modelos/my_model_{banda[0]}_{ep}.h5')\n",
    "\n",
    "        # Predict for test data \n",
    "        yTestPredicted = modelEpoch.predict(banda[2])\n",
    "        yTestPredicted = yTestPredicted[:,1]\n",
    "\n",
    "        # Calculate and display the error metrics\n",
    "        yTestPredicted = (yTestPredicted>0.5).astype(int)\n",
    "        cMatrix = confusion_matrix(yTest, yTestPredicted, normalize='true')\n",
    "        pScore = precision_score(yTest, yTestPredicted)\n",
    "        rScore = recall_score(yTest, yTestPredicted)\n",
    "\n",
    "        with open(f'metrics/model_{banda[0]}_metric_{ep}_norm.txt', 'w') as fout:\n",
    "        # fout.write(u'#'+'\\t'.join(str(e) for e in cMatrix.shape)+'\\n')\n",
    "        # cMatrix.tofile(fout)\n",
    "            for line in cMatrix:\n",
    "                for val in line:\n",
    "                    fout.write('%.3f\\t' % val)\n",
    "                fout.write('\\n')\n",
    "            fout.write('P-Score: %.3f, R-Score: %.3f\"' % (pScore, rScore))"
   ]
  },
  {
   "cell_type": "code",
   "execution_count": null,
   "metadata": {},
   "outputs": [],
   "source": []
  }
 ],
 "metadata": {
  "kernelspec": {
   "display_name": "venv",
   "language": "python",
   "name": "python3"
  },
  "language_info": {
   "codemirror_mode": {
    "name": "ipython",
    "version": 3
   },
   "file_extension": ".py",
   "mimetype": "text/x-python",
   "name": "python",
   "nbconvert_exporter": "python",
   "pygments_lexer": "ipython3",
   "version": "3.8.10"
  },
  "orig_nbformat": 4,
  "vscode": {
   "interpreter": {
    "hash": "7a6c7cdbf41dc7d303c995421279d744b386987621c309ce29c3de885d0328e3"
   }
  }
 },
 "nbformat": 4,
 "nbformat_minor": 2
}
